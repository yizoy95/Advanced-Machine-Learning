{
 "cells": [
  {
   "cell_type": "markdown",
   "metadata": {},
   "source": [
    "#### Yizhou Yao <br>DSC478 <br>HW2 <br>Due:5/3/2020\n"
   ]
  },
  {
   "cell_type": "code",
   "execution_count": 79,
   "metadata": {},
   "outputs": [],
   "source": [
    "import numpy as np\n",
    "import pandas as pd\n",
    "import matplotlib.pyplot as plt\n",
    "import sklearn"
   ]
  },
  {
   "cell_type": "markdown",
   "metadata": {},
   "source": [
    "### Problem 1"
   ]
  },
  {
   "cell_type": "markdown",
   "metadata": {},
   "source": [
    "#### a) Create your own KNN classifier function. Your classifier should allow as input the training data matrix, the training labels, the instance to be classified, the value of K, and should return the predicted class for the instance and the indices of the top K neighbors. Your classifier should work with Euclidean distance as well as Cosine distance (which is 1 minus the Cosine similarity). You may create two separate classifiers, or add the distance metric as a parameter in the classifier function."
   ]
  },
  {
   "cell_type": "code",
   "execution_count": 554,
   "metadata": {},
   "outputs": [],
   "source": [
    "# load data\n",
    "train = pd.read_table(\"trainMatrixModified.txt\", header=None)\n",
    "train_lab = pd.read_table(\"trainClasses.txt\", header=None, index_col=0)\n",
    "test = pd.read_table(\"testMatrixModified.txt\", header=None)\n",
    "test_lab = pd.read_table(\"testClasses.txt\", header=None, index_col=0)"
   ]
  },
  {
   "cell_type": "code",
   "execution_count": 555,
   "metadata": {},
   "outputs": [],
   "source": [
    "# transform data into matrices and arrays\n",
    "DT_train = np.array(train.T)\n",
    "DT_test = np.array(test.T)\n",
    "train_lab = np.array(train_lab).flatten()\n",
    "test_lab = np.array(test_lab).flatten()"
   ]
  },
  {
   "cell_type": "code",
   "execution_count": 556,
   "metadata": {},
   "outputs": [],
   "source": [
    "def knn_search(x, D, K, measure):\n",
    "    \"\"\" find K nearest neighbors of an instance x among the instances in D \"\"\"\n",
    "    if measure == 0:\n",
    "        # euclidean distances from the other points\n",
    "        dists = np.sqrt(((D - x)**2).sum(axis=1))\n",
    "    elif measure == 1:\n",
    "        # first find the vector norm for each instance in D as wel as the norm for vector x\n",
    "        D_norm = np.array([np.linalg.norm(D[i]) for i in range(len(D))])\n",
    "        x_norm = np.linalg.norm(x)\n",
    "        # Compute Cosine: divide the dot product o x and each instance in D by the product of the two norms\n",
    "        sims = np.dot(D,x)/(D_norm * x_norm)\n",
    "        # The distance measure will be the inverse of Cosine similarity\n",
    "        dists = 1 - sims\n",
    "    idx = np.argsort(dists) # sorting\n",
    "    # return the indexes of K nearest neighbors\n",
    "    return idx[:K], dists\n",
    "\n",
    "def knn_classify(x, D, K, labels, measure):\n",
    "    from collections import Counter\n",
    "    neigh_idx, distances = knn_search(x, D, K, measure)\n",
    "    neigh_labels = labels[neigh_idx]\n",
    "    count = Counter(neigh_labels)\n",
    "    return count.most_common(1)[0][0]"
   ]
  },
  {
   "cell_type": "markdown",
   "metadata": {},
   "source": [
    "#### b) Create an evaluation function to measure the accuracy of your classifier. This function will call the classifier function in part a on all the test instances and in each case compares the actual test class label to the predicted class label. It should take as input the training data, the training labels, the test instances, the labels for test instances, and the value of K. Your evaluation function should return the Classification Accuracy (ratio of correct predictions to the number of test instances) "
   ]
  },
  {
   "cell_type": "code",
   "execution_count": 557,
   "metadata": {},
   "outputs": [],
   "source": [
    "def evaluate_knn(testSet, trainSet, K, trainLab, measure, testLab):\n",
    "    correct = 0\n",
    "    for i in range(0, len(testSet)):\n",
    "        predLab = knn_classify(testSet[i], trainSet, K, trainLab, measure)\n",
    "        if predLab == testLab[i]:\n",
    "            correct += 1\n",
    "    accuracy = correct/len(testSet)\n",
    "    return accuracy"
   ]
  },
  {
   "cell_type": "markdown",
   "metadata": {},
   "source": [
    "#### c) Run your evaluation function on a range of values for K from 5 to 100 (in increments of 5) in order to compare accuracy values for different numbers of neighbors. Do this both using Euclidean Distance as well as Cosine similarity measure. Present the results as graphs with K in the x-axis and the evaluation metric (accuracy) on the y-axis. Use a single plot to compare the two version of the classifier (Eculidean distance version vs. cosine similarity version)."
   ]
  },
  {
   "cell_type": "code",
   "execution_count": 18,
   "metadata": {},
   "outputs": [],
   "source": [
    "# euclidean: measure = 0\n",
    "# cosine: measure = 1\n",
    "euc_accuracy = []\n",
    "cos_accuracy = []\n",
    "for K in range(5, 101, 5):\n",
    "    euc_accuracy.append(evaluate_knn(DT_test, DT_train, K, train_lab, 0, test_lab))\n",
    "\n",
    "for K in range(5, 101, 5):\n",
    "    cos_accuracy.append(evaluate_knn(DT_test, DT_train, K, train_lab, 1, test_lab))    "
   ]
  },
  {
   "cell_type": "code",
   "execution_count": 553,
   "metadata": {},
   "outputs": [
    {
     "data": {
      "image/png": "[encoded data removed]",
      "text/plain": [
       "<Figure size 432x288 with 1 Axes>"
      ]
     },
     "metadata": {
      "needs_background": "light"
     },
     "output_type": "display_data"
    }
   ],
   "source": [
    "Krange = np.arange(5, 101, 5)\n",
    "plt.plot(Krange, euc_accuracy, label = \"euclidean\", marker=\"^\")\n",
    "plt.plot(Krange, cos_accuracy, label = \"cosine\", marker=\"o\")\n",
    "plt.legend(bbox_to_anchor=(1.05, 1), loc='upper left', borderaxespad=0.)\n",
    "plt.xticks(np.arange(5, 101, 5))\n",
    "plt.grid()\n",
    "plt.show()"
   ]
  },
  {
   "cell_type": "markdown",
   "metadata": {},
   "source": [
    "#### d) Next, modify the training and test data sets so that term weights are converted to TFxIDF weights (instead of raw term frequencies). Then, rerun your evaluation (only for the Cosine similairty version of the classifier) on the range of K values (as above) and compare the results to the results without using TFxIDF weights."
   ]
  },
  {
   "cell_type": "code",
   "execution_count": 552,
   "metadata": {},
   "outputs": [],
   "source": [
    "DF = pd.DataFrame([(train != 0).sum(axis = 1)]).T\n",
    "NMatrix=np.ones(np.shape(train), dtype=float)*800\n",
    "IDF = np.log2(np.divide(NMatrix, np.array(DF)))\n",
    "train_tfidf = np.array((train * IDF).T)\n",
    "test_tfidf = np.array((test * IDF[:, :200]).T)"
   ]
  },
  {
   "cell_type": "code",
   "execution_count": 532,
   "metadata": {},
   "outputs": [],
   "source": [
    "Krange = np.arange(5, 101, 5)\n",
    "cos_accuracy2 = []\n",
    "for K in range(5, 101, 5):\n",
    "    cos_accuracy2.append(evaluate_knn(test_tfidf, train_tfidf, K, train_lab, 1, test_lab))"
   ]
  },
  {
   "cell_type": "code",
   "execution_count": 551,
   "metadata": {},
   "outputs": [
    {
     "data": {
      "image/png": "[encoded data removed]",
      "text/plain": [
       "<Figure size 432x288 with 1 Axes>"
      ]
     },
     "metadata": {
      "needs_background": "light"
     },
     "output_type": "display_data"
    }
   ],
   "source": [
    "plt.plot(Krange, cos_accuracy2, label = \"cosine\", marker=\"o\")\n",
    "plt.xticks(Krange)\n",
    "plt.grid()\n",
    "plt.show()"
   ]
  },
  {
   "cell_type": "markdown",
   "metadata": {},
   "source": [
    "#### e) Create a new classifier based on the Rocchio Method adapted for text categorization. You should separate the training function from the classifiation function. The training part for the classifier can be implemented as a function that takes as input the training data matrix and the training labels, returning the prototype vectors for each class. The classification part can be implemented as another function that would take as input the prototypes returned from the training function and the instance to be classified. This function should measure Cosine similarity of the test instance to each prototype vector. Your output should indicate the predicted class for the test instance and the similarity values of the instance to each of the category prototypes.  Finally, use your evaluation function to compare your results to the best KNN results you obtained in part d. [Note: your functions should work regardless of the number of categories (class labels) and should not be limited to two-class categorization scenario.]\n"
   ]
  },
  {
   "cell_type": "code",
   "execution_count": null,
   "metadata": {},
   "outputs": [],
   "source": [
    "def Rochio_train(train, train_lab):\n",
    "    prototypeDict = {}\n",
    "    for i in train_lab:\n",
    "        if len(prototypeDict) == 0:\n",
    "            prototype[i] = train[i]\n",
    "        else:\n",
    "            prototypeDict[i] += train[i]\n",
    "    return prototypeDict\n",
    "\n",
    "def Rochio_classifier(x, D):\n",
    "    D_norm = np.array([np.linalg.norm(D.get(i)) for i in range(len(D))])\n",
    "    x_norm = np.linalg.norm(x)\n",
    "    sims = np.dot(D,x)/(D_norm * x_norm)\n",
    "    dists = 1 - sims\n",
    "    return pred_lab, sims\n",
    "\n",
    "def Rochio_evaluate(test, test_lab, prototype):\n",
    "    \n",
    "    return accuracy"
   ]
  },
  {
   "cell_type": "code",
   "execution_count": 36,
   "metadata": {},
   "outputs": [
    {
     "data": {
      "text/plain": [
       "800"
      ]
     },
     "execution_count": 36,
     "metadata": {},
     "output_type": "execute_result"
    }
   ],
   "source": []
  },
  {
   "cell_type": "markdown",
   "metadata": {},
   "source": [
    "### Problem 2\n",
    "#### a) Load and preprocess the data using Pandas or similar tools. Specifically, you need to separate the target attribute (\"pep\") from the portion of the data to be used for training and testing. You will need to convert the selected dataset into the Standard Spreadsheet format (i.e., convert categorical attributes into numeric by creating dummy variables). Finally, split the transformed data into training and test sets (using 80%-20% randomized split)."
   ]
  },
  {
   "cell_type": "code",
   "execution_count": 580,
   "metadata": {},
   "outputs": [
    {
     "data": {
      "text/html": [
       "<div>\n",
       "<style scoped>\n",
       "    .dataframe tbody tr th:only-of-type {\n",
       "        vertical-align: middle;\n",
       "    }\n",
       "\n",
       "    .dataframe tbody tr th {\n",
       "        vertical-align: top;\n",
       "    }\n",
       "\n",
       "    .dataframe thead th {\n",
       "        text-align: right;\n",
       "    }\n",
       "</style>\n",
       "<table border=\"1\" class=\"dataframe\">\n",
       "  <thead>\n",
       "    <tr style=\"text-align: right;\">\n",
       "      <th></th>\n",
       "      <th>age</th>\n",
       "      <th>income</th>\n",
       "      <th>children</th>\n",
       "      <th>gender_FEMALE</th>\n",
       "      <th>gender_MALE</th>\n",
       "      <th>region_INNER_CITY</th>\n",
       "      <th>region_RURAL</th>\n",
       "      <th>region_SUBURBAN</th>\n",
       "      <th>region_TOWN</th>\n",
       "      <th>married_NO</th>\n",
       "      <th>married_YES</th>\n",
       "      <th>car_NO</th>\n",
       "      <th>car_YES</th>\n",
       "      <th>savings_acct_NO</th>\n",
       "      <th>savings_acct_YES</th>\n",
       "      <th>current_acct_NO</th>\n",
       "      <th>current_acct_YES</th>\n",
       "      <th>mortgage_NO</th>\n",
       "      <th>mortgage_YES</th>\n",
       "    </tr>\n",
       "    <tr>\n",
       "      <th>id</th>\n",
       "      <th></th>\n",
       "      <th></th>\n",
       "      <th></th>\n",
       "      <th></th>\n",
       "      <th></th>\n",
       "      <th></th>\n",
       "      <th></th>\n",
       "      <th></th>\n",
       "      <th></th>\n",
       "      <th></th>\n",
       "      <th></th>\n",
       "      <th></th>\n",
       "      <th></th>\n",
       "      <th></th>\n",
       "      <th></th>\n",
       "      <th></th>\n",
       "      <th></th>\n",
       "      <th></th>\n",
       "      <th></th>\n",
       "    </tr>\n",
       "  </thead>\n",
       "  <tbody>\n",
       "    <tr>\n",
       "      <td>ID12101</td>\n",
       "      <td>48</td>\n",
       "      <td>17546.00</td>\n",
       "      <td>1</td>\n",
       "      <td>1</td>\n",
       "      <td>0</td>\n",
       "      <td>1</td>\n",
       "      <td>0</td>\n",
       "      <td>0</td>\n",
       "      <td>0</td>\n",
       "      <td>1</td>\n",
       "      <td>0</td>\n",
       "      <td>1</td>\n",
       "      <td>0</td>\n",
       "      <td>1</td>\n",
       "      <td>0</td>\n",
       "      <td>1</td>\n",
       "      <td>0</td>\n",
       "      <td>1</td>\n",
       "      <td>0</td>\n",
       "    </tr>\n",
       "    <tr>\n",
       "      <td>ID12102</td>\n",
       "      <td>40</td>\n",
       "      <td>30085.10</td>\n",
       "      <td>3</td>\n",
       "      <td>0</td>\n",
       "      <td>1</td>\n",
       "      <td>0</td>\n",
       "      <td>0</td>\n",
       "      <td>0</td>\n",
       "      <td>1</td>\n",
       "      <td>0</td>\n",
       "      <td>1</td>\n",
       "      <td>0</td>\n",
       "      <td>1</td>\n",
       "      <td>1</td>\n",
       "      <td>0</td>\n",
       "      <td>0</td>\n",
       "      <td>1</td>\n",
       "      <td>0</td>\n",
       "      <td>1</td>\n",
       "    </tr>\n",
       "    <tr>\n",
       "      <td>ID12103</td>\n",
       "      <td>51</td>\n",
       "      <td>16575.40</td>\n",
       "      <td>0</td>\n",
       "      <td>1</td>\n",
       "      <td>0</td>\n",
       "      <td>1</td>\n",
       "      <td>0</td>\n",
       "      <td>0</td>\n",
       "      <td>0</td>\n",
       "      <td>0</td>\n",
       "      <td>1</td>\n",
       "      <td>0</td>\n",
       "      <td>1</td>\n",
       "      <td>0</td>\n",
       "      <td>1</td>\n",
       "      <td>0</td>\n",
       "      <td>1</td>\n",
       "      <td>1</td>\n",
       "      <td>0</td>\n",
       "    </tr>\n",
       "    <tr>\n",
       "      <td>ID12104</td>\n",
       "      <td>23</td>\n",
       "      <td>20375.40</td>\n",
       "      <td>3</td>\n",
       "      <td>1</td>\n",
       "      <td>0</td>\n",
       "      <td>0</td>\n",
       "      <td>0</td>\n",
       "      <td>0</td>\n",
       "      <td>1</td>\n",
       "      <td>0</td>\n",
       "      <td>1</td>\n",
       "      <td>1</td>\n",
       "      <td>0</td>\n",
       "      <td>1</td>\n",
       "      <td>0</td>\n",
       "      <td>0</td>\n",
       "      <td>1</td>\n",
       "      <td>1</td>\n",
       "      <td>0</td>\n",
       "    </tr>\n",
       "    <tr>\n",
       "      <td>ID12105</td>\n",
       "      <td>57</td>\n",
       "      <td>50576.30</td>\n",
       "      <td>0</td>\n",
       "      <td>1</td>\n",
       "      <td>0</td>\n",
       "      <td>0</td>\n",
       "      <td>1</td>\n",
       "      <td>0</td>\n",
       "      <td>0</td>\n",
       "      <td>0</td>\n",
       "      <td>1</td>\n",
       "      <td>1</td>\n",
       "      <td>0</td>\n",
       "      <td>0</td>\n",
       "      <td>1</td>\n",
       "      <td>1</td>\n",
       "      <td>0</td>\n",
       "      <td>1</td>\n",
       "      <td>0</td>\n",
       "    </tr>\n",
       "    <tr>\n",
       "      <td>...</td>\n",
       "      <td>...</td>\n",
       "      <td>...</td>\n",
       "      <td>...</td>\n",
       "      <td>...</td>\n",
       "      <td>...</td>\n",
       "      <td>...</td>\n",
       "      <td>...</td>\n",
       "      <td>...</td>\n",
       "      <td>...</td>\n",
       "      <td>...</td>\n",
       "      <td>...</td>\n",
       "      <td>...</td>\n",
       "      <td>...</td>\n",
       "      <td>...</td>\n",
       "      <td>...</td>\n",
       "      <td>...</td>\n",
       "      <td>...</td>\n",
       "      <td>...</td>\n",
       "      <td>...</td>\n",
       "    </tr>\n",
       "    <tr>\n",
       "      <td>ID12696</td>\n",
       "      <td>61</td>\n",
       "      <td>47025.00</td>\n",
       "      <td>2</td>\n",
       "      <td>1</td>\n",
       "      <td>0</td>\n",
       "      <td>1</td>\n",
       "      <td>0</td>\n",
       "      <td>0</td>\n",
       "      <td>0</td>\n",
       "      <td>1</td>\n",
       "      <td>0</td>\n",
       "      <td>0</td>\n",
       "      <td>1</td>\n",
       "      <td>0</td>\n",
       "      <td>1</td>\n",
       "      <td>0</td>\n",
       "      <td>1</td>\n",
       "      <td>0</td>\n",
       "      <td>1</td>\n",
       "    </tr>\n",
       "    <tr>\n",
       "      <td>ID12697</td>\n",
       "      <td>30</td>\n",
       "      <td>9672.25</td>\n",
       "      <td>0</td>\n",
       "      <td>1</td>\n",
       "      <td>0</td>\n",
       "      <td>1</td>\n",
       "      <td>0</td>\n",
       "      <td>0</td>\n",
       "      <td>0</td>\n",
       "      <td>0</td>\n",
       "      <td>1</td>\n",
       "      <td>0</td>\n",
       "      <td>1</td>\n",
       "      <td>0</td>\n",
       "      <td>1</td>\n",
       "      <td>0</td>\n",
       "      <td>1</td>\n",
       "      <td>1</td>\n",
       "      <td>0</td>\n",
       "    </tr>\n",
       "    <tr>\n",
       "      <td>ID12698</td>\n",
       "      <td>31</td>\n",
       "      <td>15976.30</td>\n",
       "      <td>0</td>\n",
       "      <td>1</td>\n",
       "      <td>0</td>\n",
       "      <td>0</td>\n",
       "      <td>0</td>\n",
       "      <td>0</td>\n",
       "      <td>1</td>\n",
       "      <td>0</td>\n",
       "      <td>1</td>\n",
       "      <td>0</td>\n",
       "      <td>1</td>\n",
       "      <td>0</td>\n",
       "      <td>1</td>\n",
       "      <td>1</td>\n",
       "      <td>0</td>\n",
       "      <td>1</td>\n",
       "      <td>0</td>\n",
       "    </tr>\n",
       "    <tr>\n",
       "      <td>ID12699</td>\n",
       "      <td>29</td>\n",
       "      <td>14711.80</td>\n",
       "      <td>0</td>\n",
       "      <td>0</td>\n",
       "      <td>1</td>\n",
       "      <td>1</td>\n",
       "      <td>0</td>\n",
       "      <td>0</td>\n",
       "      <td>0</td>\n",
       "      <td>0</td>\n",
       "      <td>1</td>\n",
       "      <td>1</td>\n",
       "      <td>0</td>\n",
       "      <td>0</td>\n",
       "      <td>1</td>\n",
       "      <td>1</td>\n",
       "      <td>0</td>\n",
       "      <td>0</td>\n",
       "      <td>1</td>\n",
       "    </tr>\n",
       "    <tr>\n",
       "      <td>ID12700</td>\n",
       "      <td>38</td>\n",
       "      <td>26671.60</td>\n",
       "      <td>0</td>\n",
       "      <td>0</td>\n",
       "      <td>1</td>\n",
       "      <td>0</td>\n",
       "      <td>0</td>\n",
       "      <td>0</td>\n",
       "      <td>1</td>\n",
       "      <td>1</td>\n",
       "      <td>0</td>\n",
       "      <td>0</td>\n",
       "      <td>1</td>\n",
       "      <td>1</td>\n",
       "      <td>0</td>\n",
       "      <td>0</td>\n",
       "      <td>1</td>\n",
       "      <td>0</td>\n",
       "      <td>1</td>\n",
       "    </tr>\n",
       "  </tbody>\n",
       "</table>\n",
       "<p>600 rows × 19 columns</p>\n",
       "</div>"
      ],
      "text/plain": [
       "         age    income  children  gender_FEMALE  gender_MALE  \\\n",
       "id                                                             \n",
       "ID12101   48  17546.00         1              1            0   \n",
       "ID12102   40  30085.10         3              0            1   \n",
       "ID12103   51  16575.40         0              1            0   \n",
       "ID12104   23  20375.40         3              1            0   \n",
       "ID12105   57  50576.30         0              1            0   \n",
       "...      ...       ...       ...            ...          ...   \n",
       "ID12696   61  47025.00         2              1            0   \n",
       "ID12697   30   9672.25         0              1            0   \n",
       "ID12698   31  15976.30         0              1            0   \n",
       "ID12699   29  14711.80         0              0            1   \n",
       "ID12700   38  26671.60         0              0            1   \n",
       "\n",
       "         region_INNER_CITY  region_RURAL  region_SUBURBAN  region_TOWN  \\\n",
       "id                                                                       \n",
       "ID12101                  1             0                0            0   \n",
       "ID12102                  0             0                0            1   \n",
       "ID12103                  1             0                0            0   \n",
       "ID12104                  0             0                0            1   \n",
       "ID12105                  0             1                0            0   \n",
       "...                    ...           ...              ...          ...   \n",
       "ID12696                  1             0                0            0   \n",
       "ID12697                  1             0                0            0   \n",
       "ID12698                  0             0                0            1   \n",
       "ID12699                  1             0                0            0   \n",
       "ID12700                  0             0                0            1   \n",
       "\n",
       "         married_NO  married_YES  car_NO  car_YES  savings_acct_NO  \\\n",
       "id                                                                   \n",
       "ID12101           1            0       1        0                1   \n",
       "ID12102           0            1       0        1                1   \n",
       "ID12103           0            1       0        1                0   \n",
       "ID12104           0            1       1        0                1   \n",
       "ID12105           0            1       1        0                0   \n",
       "...             ...          ...     ...      ...              ...   \n",
       "ID12696           1            0       0        1                0   \n",
       "ID12697           0            1       0        1                0   \n",
       "ID12698           0            1       0        1                0   \n",
       "ID12699           0            1       1        0                0   \n",
       "ID12700           1            0       0        1                1   \n",
       "\n",
       "         savings_acct_YES  current_acct_NO  current_acct_YES  mortgage_NO  \\\n",
       "id                                                                          \n",
       "ID12101                 0                1                 0            1   \n",
       "ID12102                 0                0                 1            0   \n",
       "ID12103                 1                0                 1            1   \n",
       "ID12104                 0                0                 1            1   \n",
       "ID12105                 1                1                 0            1   \n",
       "...                   ...              ...               ...          ...   \n",
       "ID12696                 1                0                 1            0   \n",
       "ID12697                 1                0                 1            1   \n",
       "ID12698                 1                1                 0            1   \n",
       "ID12699                 1                1                 0            0   \n",
       "ID12700                 0                0                 1            0   \n",
       "\n",
       "         mortgage_YES  \n",
       "id                     \n",
       "ID12101             0  \n",
       "ID12102             1  \n",
       "ID12103             0  \n",
       "ID12104             0  \n",
       "ID12105             0  \n",
       "...               ...  \n",
       "ID12696             1  \n",
       "ID12697             0  \n",
       "ID12698             0  \n",
       "ID12699             1  \n",
       "ID12700             1  \n",
       "\n",
       "[600 rows x 19 columns]"
      ]
     },
     "execution_count": 580,
     "metadata": {},
     "output_type": "execute_result"
    }
   ],
   "source": [
    "# load\n",
    "bank = pd.read_csv(\"bank_data.csv\")\n",
    "bank = bank.set_index(\"id\", drop=True)\n",
    "bank_target = bank.pep\n",
    "bank = bank.drop(columns=[\"pep\"])\n",
    "bank = pd.get_dummies(bank)\n",
    "bank"
   ]
  },
  {
   "cell_type": "code",
   "execution_count": 581,
   "metadata": {},
   "outputs": [],
   "source": [
    "# split into 80% train 20% test\n",
    "from sklearn.model_selection import train_test_split\n",
    "bk_train, bk_test, bk_target_train, bk_target_test = train_test_split(bank, bank_target, test_size=0.2, random_state=33)"
   ]
  },
  {
   "cell_type": "markdown",
   "metadata": {},
   "source": [
    "#### b) Run scikit-learn's KNN classifier on the test set. Note: in the case of KNN, you should first normalize the data so that all attributes are in the same scale (normalize so that the values are between 0 and 1). Generate the confusion matrix (visualize it using Matplotlib), as well as the classification report. Experiment with different values of K and the weight parameter (i.e., with or without distance weighting) for KNN to see if you can improve accuracy (you do not need to provide the details of all of your experimentation, but provide a short discussion on what parameters worked best as well as your final results)."
   ]
  },
  {
   "cell_type": "code",
   "execution_count": 582,
   "metadata": {},
   "outputs": [],
   "source": [
    "from sklearn import preprocessing\n",
    "from sklearn import neighbors, tree\n",
    "from sklearn.metrics import confusion_matrix\n",
    "from sklearn.metrics import classification_report\n",
    "import pylab as plt"
   ]
  },
  {
   "cell_type": "code",
   "execution_count": 583,
   "metadata": {},
   "outputs": [],
   "source": [
    "# min-max normalize\n",
    "min_max_scaler = preprocessing.MinMaxScaler().fit(bk_train)\n",
    "\n",
    "bk_train_norm = min_max_scaler.transform(bk_train)\n",
    "bk_train_norm = pd.DataFrame(bk_train_norm, columns=bk_train.columns, index=bk_train.index)\n",
    "\n",
    "bk_test_norm = min_max_scaler.transform(bk_test)\n",
    "bk_test_norm = pd.DataFrame(bk_test_norm, columns=bk_test.columns, index=bk_test.index)"
   ]
  },
  {
   "cell_type": "code",
   "execution_count": 584,
   "metadata": {},
   "outputs": [],
   "source": [
    "n_neighbors = 5\n",
    "\n",
    "knnclf = neighbors.KNeighborsClassifier(n_neighbors, weights='distance')\n",
    "knnclf = knnclf.fit(bk_train_norm, bk_target_train)"
   ]
  },
  {
   "cell_type": "code",
   "execution_count": 585,
   "metadata": {},
   "outputs": [],
   "source": [
    "knnpreds_test = knnclf.predict(bk_test_norm)"
   ]
  },
  {
   "cell_type": "code",
   "execution_count": 587,
   "metadata": {},
   "outputs": [
    {
     "name": "stdout",
     "output_type": "stream",
     "text": [
      "[[48 18]\n",
      " [23 31]]\n"
     ]
    }
   ],
   "source": [
    "knncm = confusion_matrix(bk_target_test, knnpreds_test)\n",
    "print(knncm)"
   ]
  },
  {
   "cell_type": "code",
   "execution_count": 588,
   "metadata": {},
   "outputs": [
    {
     "name": "stdout",
     "output_type": "stream",
     "text": [
      "              precision    recall  f1-score   support\n",
      "\n",
      "          NO       0.68      0.73      0.70        66\n",
      "         YES       0.63      0.57      0.60        54\n",
      "\n",
      "    accuracy                           0.66       120\n",
      "   macro avg       0.65      0.65      0.65       120\n",
      "weighted avg       0.66      0.66      0.66       120\n",
      "\n"
     ]
    }
   ],
   "source": [
    "print(classification_report(bk_target_test, knnpreds_test))"
   ]
  },
  {
   "cell_type": "code",
   "execution_count": 589,
   "metadata": {},
   "outputs": [
    {
     "data": {
      "image/png": "[encoded data removed]",
      "text/plain": [
       "<Figure size 288x288 with 2 Axes>"
      ]
     },
     "metadata": {
      "needs_background": "light"
     },
     "output_type": "display_data"
    }
   ],
   "source": [
    "%matplotlib inline\n",
    "plt.matshow(knncm)\n",
    "plt.title('K-NN Confusion matrix')\n",
    "plt.colorbar()\n",
    "plt.ylabel('Actual')\n",
    "plt.xlabel('Predicted')\n",
    "plt.show()"
   ]
  },
  {
   "cell_type": "markdown",
   "metadata": {},
   "source": [
    "### I see the best result when n_neighbors=5 and weights=\"distance\". Generally, when weights=\"uniform\" I see poorer accuracy. When n_neighbors gets larger and smaller from 5, the accuracy decreases."
   ]
  },
  {
   "cell_type": "markdown",
   "metadata": {},
   "source": [
    "#### c) Using the non-normalized training and test data, perform classification using scikit-learn's decision tree classifier (using the default parameters). As above, generate the confusion matrix, classification report, and average accuracy scores the classifier. Compare the average accuracy score on the test and the training data sets. What does the comparison tell you in terms of bias-variance trade-off?"
   ]
  },
  {
   "cell_type": "code",
   "execution_count": 590,
   "metadata": {},
   "outputs": [],
   "source": [
    "treeclf = tree.DecisionTreeClassifier()\n",
    "treeclf = treeclf.fit(bk_train, bk_target_train)\n",
    "treepreds_test = treeclf.predict(bk_test)"
   ]
  },
  {
   "cell_type": "code",
   "execution_count": 592,
   "metadata": {},
   "outputs": [
    {
     "name": "stdout",
     "output_type": "stream",
     "text": [
      "              precision    recall  f1-score   support\n",
      "\n",
      "          NO       0.84      0.85      0.84        66\n",
      "         YES       0.81      0.80      0.80        54\n",
      "\n",
      "    accuracy                           0.82       120\n",
      "   macro avg       0.82      0.82      0.82       120\n",
      "weighted avg       0.82      0.82      0.82       120\n",
      "\n"
     ]
    }
   ],
   "source": [
    "print(classification_report(bk_target_test, treepreds_test))"
   ]
  },
  {
   "cell_type": "code",
   "execution_count": 593,
   "metadata": {},
   "outputs": [
    {
     "name": "stdout",
     "output_type": "stream",
     "text": [
      "[[56 10]\n",
      " [11 43]]\n"
     ]
    },
    {
     "data": {
      "image/png": "[encoded data removed]",
      "text/plain": [
       "<Figure size 288x288 with 2 Axes>"
      ]
     },
     "metadata": {
      "needs_background": "light"
     },
     "output_type": "display_data"
    }
   ],
   "source": [
    "treecm = confusion_matrix(bk_target_test, treepreds_test)\n",
    "print(treecm)\n",
    "%matplotlib inline\n",
    "plt.matshow(treecm)\n",
    "plt.title('Tree Confusion matrix')\n",
    "plt.colorbar()\n",
    "plt.ylabel('Actual')\n",
    "plt.xlabel('Predicted')\n",
    "plt.show()"
   ]
  },
  {
   "cell_type": "markdown",
   "metadata": {},
   "source": [
    "Average accuracy on test set:"
   ]
  },
  {
   "cell_type": "code",
   "execution_count": 594,
   "metadata": {},
   "outputs": [
    {
     "name": "stdout",
     "output_type": "stream",
     "text": [
      "0.825\n"
     ]
    }
   ],
   "source": [
    "print(treeclf.score(bk_test, bk_target_test))"
   ]
  },
  {
   "cell_type": "markdown",
   "metadata": {},
   "source": [
    "Average accuracy on train set:"
   ]
  },
  {
   "cell_type": "code",
   "execution_count": 595,
   "metadata": {},
   "outputs": [
    {
     "name": "stdout",
     "output_type": "stream",
     "text": [
      "1.0\n"
     ]
    }
   ],
   "source": [
    "print(treeclf.score(bk_train, bk_target_train))"
   ]
  },
  {
   "cell_type": "markdown",
   "metadata": {},
   "source": [
    "### The decision tree model contains high variance and low bias because the avearge accuracy score for train set is equal to 1 and higher than the test set (0.825). That also suggests there may be overfitting issue in the model."
   ]
  },
  {
   "cell_type": "markdown",
   "metadata": {},
   "source": [
    "#### d) Create another decision tree model (trained on the non-normalized training data) using \"entropy\" as the selection criteria, min_samples_split=10, and max_depth=5. For this model generate a visualization of tree and submit it as a separate file (png, jpg, or pdf) or embed it in the Jupyter Notebook."
   ]
  },
  {
   "cell_type": "code",
   "execution_count": 596,
   "metadata": {},
   "outputs": [],
   "source": [
    "from sklearn.tree import export_graphviz\n",
    "from IPython.display import SVG\n",
    "from graphviz import Source\n",
    "from IPython.display import display"
   ]
  },
  {
   "cell_type": "code",
   "execution_count": 597,
   "metadata": {},
   "outputs": [],
   "source": [
    "treeclf2 = tree.DecisionTreeClassifier(criterion=\"entropy\", min_samples_split=10, max_depth=5)\n",
    "treeclf2 = treeclf2.fit(bk_train, bk_target_train)"
   ]
  },
  {
   "cell_type": "code",
   "execution_count": 598,
   "metadata": {},
   "outputs": [
    {
     "data": {
      "image/svg+xml": [
       "<?xml version=\"1.0\" encoding=\"UTF-8\" standalone=\"no\"?>\r\n",
       "<!DOCTYPE svg PUBLIC \"-//W3C//DTD SVG 1.1//EN\"\r\n",
       " \"http://www.w3.org/Graphics/SVG/1.1/DTD/svg11.dtd\">\r\n",
       "<!-- Generated by graphviz version 2.38.0 (20140413.2041)\r\n",
       " -->\r\n",
       "<!-- Title: Tree Pages: 1 -->\r\n",
       "<svg width=\"1922pt\" height=\"671pt\"\r\n",
       " viewBox=\"0.00 0.00 1922.00 671.00\" xmlns=\"http://www.w3.org/2000/svg\" xmlns:xlink=\"http://www.w3.org/1999/xlink\">\r\n",
       "<g id=\"graph0\" class=\"graph\" transform=\"scale(1 1) rotate(0) translate(4 667)\">\r\n",
       "<title>Tree</title>\r\n",
       "<polygon fill=\"white\" stroke=\"none\" points=\"-4,4 -4,-667 1918,-667 1918,4 -4,4\"/>\r\n",
       "<!-- 0 -->\r\n",
       "<g id=\"node1\" class=\"node\"><title>0</title>\r\n",
       "<polygon fill=\"none\" stroke=\"black\" points=\"1564.5,-663 1439.5,-663 1439.5,-580 1564.5,-580 1564.5,-663\"/>\r\n",
       "<text text-anchor=\"middle\" x=\"1502\" y=\"-647.8\" font-family=\"Times New Roman,serif\" font-size=\"14.00\">income &lt;= 49774.0</text>\r\n",
       "<text text-anchor=\"middle\" x=\"1502\" y=\"-632.8\" font-family=\"Times New Roman,serif\" font-size=\"14.00\">entropy = 0.995</text>\r\n",
       "<text text-anchor=\"middle\" x=\"1502\" y=\"-617.8\" font-family=\"Times New Roman,serif\" font-size=\"14.00\">samples = 480</text>\r\n",
       "<text text-anchor=\"middle\" x=\"1502\" y=\"-602.8\" font-family=\"Times New Roman,serif\" font-size=\"14.00\">value = [260, 220]</text>\r\n",
       "<text text-anchor=\"middle\" x=\"1502\" y=\"-587.8\" font-family=\"Times New Roman,serif\" font-size=\"14.00\">class = No</text>\r\n",
       "</g>\r\n",
       "<!-- 1 -->\r\n",
       "<g id=\"node2\" class=\"node\"><title>1</title>\r\n",
       "<polygon fill=\"none\" stroke=\"black\" points=\"1441,-544 1323,-544 1323,-461 1441,-461 1441,-544\"/>\r\n",
       "<text text-anchor=\"middle\" x=\"1382\" y=\"-528.8\" font-family=\"Times New Roman,serif\" font-size=\"14.00\">children &lt;= 1.5</text>\r\n",
       "<text text-anchor=\"middle\" x=\"1382\" y=\"-513.8\" font-family=\"Times New Roman,serif\" font-size=\"14.00\">entropy = 0.985</text>\r\n",
       "<text text-anchor=\"middle\" x=\"1382\" y=\"-498.8\" font-family=\"Times New Roman,serif\" font-size=\"14.00\">samples = 442</text>\r\n",
       "<text text-anchor=\"middle\" x=\"1382\" y=\"-483.8\" font-family=\"Times New Roman,serif\" font-size=\"14.00\">value = [253, 189]</text>\r\n",
       "<text text-anchor=\"middle\" x=\"1382\" y=\"-468.8\" font-family=\"Times New Roman,serif\" font-size=\"14.00\">class = No</text>\r\n",
       "</g>\r\n",
       "<!-- 0&#45;&gt;1 -->\r\n",
       "<g id=\"edge1\" class=\"edge\"><title>0&#45;&gt;1</title>\r\n",
       "<path fill=\"none\" stroke=\"black\" d=\"M1460.37,-579.907C1450.87,-570.651 1440.7,-560.732 1430.93,-551.209\"/>\r\n",
       "<polygon fill=\"black\" stroke=\"black\" points=\"1433.16,-548.496 1423.56,-544.021 1428.28,-553.508 1433.16,-548.496\"/>\r\n",
       "<text text-anchor=\"middle\" x=\"1423.88\" y=\"-565.319\" font-family=\"Times New Roman,serif\" font-size=\"14.00\">True</text>\r\n",
       "</g>\r\n",
       "<!-- 32 -->\r\n",
       "<g id=\"node33\" class=\"node\"><title>32</title>\r\n",
       "<polygon fill=\"none\" stroke=\"black\" points=\"1652,-544 1546,-544 1546,-461 1652,-461 1652,-544\"/>\r\n",
       "<text text-anchor=\"middle\" x=\"1599\" y=\"-528.8\" font-family=\"Times New Roman,serif\" font-size=\"14.00\">children &lt;= 0.5</text>\r\n",
       "<text text-anchor=\"middle\" x=\"1599\" y=\"-513.8\" font-family=\"Times New Roman,serif\" font-size=\"14.00\">entropy = 0.689</text>\r\n",
       "<text text-anchor=\"middle\" x=\"1599\" y=\"-498.8\" font-family=\"Times New Roman,serif\" font-size=\"14.00\">samples = 38</text>\r\n",
       "<text text-anchor=\"middle\" x=\"1599\" y=\"-483.8\" font-family=\"Times New Roman,serif\" font-size=\"14.00\">value = [7, 31]</text>\r\n",
       "<text text-anchor=\"middle\" x=\"1599\" y=\"-468.8\" font-family=\"Times New Roman,serif\" font-size=\"14.00\">class = Yes</text>\r\n",
       "</g>\r\n",
       "<!-- 0&#45;&gt;32 -->\r\n",
       "<g id=\"edge32\" class=\"edge\"><title>0&#45;&gt;32</title>\r\n",
       "<path fill=\"none\" stroke=\"black\" d=\"M1535.65,-579.907C1543.18,-570.832 1551.23,-561.121 1558.98,-551.769\"/>\r\n",
       "<polygon fill=\"black\" stroke=\"black\" points=\"1561.72,-553.953 1565.41,-544.021 1556.33,-549.485 1561.72,-553.953\"/>\r\n",
       "<text text-anchor=\"middle\" x=\"1567.73\" y=\"-565.212\" font-family=\"Times New Roman,serif\" font-size=\"14.00\">False</text>\r\n",
       "</g>\r\n",
       "<!-- 2 -->\r\n",
       "<g id=\"node3\" class=\"node\"><title>2</title>\r\n",
       "<polygon fill=\"none\" stroke=\"black\" points=\"780,-425 662,-425 662,-342 780,-342 780,-425\"/>\r\n",
       "<text text-anchor=\"middle\" x=\"721\" y=\"-409.8\" font-family=\"Times New Roman,serif\" font-size=\"14.00\">children &lt;= 0.5</text>\r\n",
       "<text text-anchor=\"middle\" x=\"721\" y=\"-394.8\" font-family=\"Times New Roman,serif\" font-size=\"14.00\">entropy = 0.999</text>\r\n",
       "<text text-anchor=\"middle\" x=\"721\" y=\"-379.8\" font-family=\"Times New Roman,serif\" font-size=\"14.00\">samples = 297</text>\r\n",
       "<text text-anchor=\"middle\" x=\"721\" y=\"-364.8\" font-family=\"Times New Roman,serif\" font-size=\"14.00\">value = [144, 153]</text>\r\n",
       "<text text-anchor=\"middle\" x=\"721\" y=\"-349.8\" font-family=\"Times New Roman,serif\" font-size=\"14.00\">class = Yes</text>\r\n",
       "</g>\r\n",
       "<!-- 1&#45;&gt;2 -->\r\n",
       "<g id=\"edge2\" class=\"edge\"><title>1&#45;&gt;2</title>\r\n",
       "<path fill=\"none\" stroke=\"black\" d=\"M1322.76,-491.014C1200.46,-469.367 920.611,-419.832 790.226,-396.753\"/>\r\n",
       "<polygon fill=\"black\" stroke=\"black\" points=\"790.803,-393.301 780.346,-395.004 789.583,-400.194 790.803,-393.301\"/>\r\n",
       "</g>\r\n",
       "<!-- 17 -->\r\n",
       "<g id=\"node18\" class=\"node\"><title>17</title>\r\n",
       "<polygon fill=\"none\" stroke=\"black\" points=\"1444.5,-425 1319.5,-425 1319.5,-342 1444.5,-342 1444.5,-425\"/>\r\n",
       "<text text-anchor=\"middle\" x=\"1382\" y=\"-409.8\" font-family=\"Times New Roman,serif\" font-size=\"14.00\">income &lt;= 30442.3</text>\r\n",
       "<text text-anchor=\"middle\" x=\"1382\" y=\"-394.8\" font-family=\"Times New Roman,serif\" font-size=\"14.00\">entropy = 0.809</text>\r\n",
       "<text text-anchor=\"middle\" x=\"1382\" y=\"-379.8\" font-family=\"Times New Roman,serif\" font-size=\"14.00\">samples = 145</text>\r\n",
       "<text text-anchor=\"middle\" x=\"1382\" y=\"-364.8\" font-family=\"Times New Roman,serif\" font-size=\"14.00\">value = [109, 36]</text>\r\n",
       "<text text-anchor=\"middle\" x=\"1382\" y=\"-349.8\" font-family=\"Times New Roman,serif\" font-size=\"14.00\">class = No</text>\r\n",
       "</g>\r\n",
       "<!-- 1&#45;&gt;17 -->\r\n",
       "<g id=\"edge17\" class=\"edge\"><title>1&#45;&gt;17</title>\r\n",
       "<path fill=\"none\" stroke=\"black\" d=\"M1382,-460.907C1382,-452.649 1382,-443.864 1382,-435.302\"/>\r\n",
       "<polygon fill=\"black\" stroke=\"black\" points=\"1385.5,-435.021 1382,-425.021 1378.5,-435.021 1385.5,-435.021\"/>\r\n",
       "</g>\r\n",
       "<!-- 3 -->\r\n",
       "<g id=\"node4\" class=\"node\"><title>3</title>\r\n",
       "<polygon fill=\"none\" stroke=\"black\" points=\"450,-306 322,-306 322,-223 450,-223 450,-306\"/>\r\n",
       "<text text-anchor=\"middle\" x=\"386\" y=\"-290.8\" font-family=\"Times New Roman,serif\" font-size=\"14.00\">married_NO &lt;= 0.5</text>\r\n",
       "<text text-anchor=\"middle\" x=\"386\" y=\"-275.8\" font-family=\"Times New Roman,serif\" font-size=\"14.00\">entropy = 0.938</text>\r\n",
       "<text text-anchor=\"middle\" x=\"386\" y=\"-260.8\" font-family=\"Times New Roman,serif\" font-size=\"14.00\">samples = 200</text>\r\n",
       "<text text-anchor=\"middle\" x=\"386\" y=\"-245.8\" font-family=\"Times New Roman,serif\" font-size=\"14.00\">value = [129, 71]</text>\r\n",
       "<text text-anchor=\"middle\" x=\"386\" y=\"-230.8\" font-family=\"Times New Roman,serif\" font-size=\"14.00\">class = No</text>\r\n",
       "</g>\r\n",
       "<!-- 2&#45;&gt;3 -->\r\n",
       "<g id=\"edge3\" class=\"edge\"><title>2&#45;&gt;3</title>\r\n",
       "<path fill=\"none\" stroke=\"black\" d=\"M661.88,-361.852C605.538,-342.174 520.525,-312.483 459.772,-291.265\"/>\r\n",
       "<polygon fill=\"black\" stroke=\"black\" points=\"460.833,-287.928 450.238,-287.935 458.525,-294.537 460.833,-287.928\"/>\r\n",
       "</g>\r\n",
       "<!-- 10 -->\r\n",
       "<g id=\"node11\" class=\"node\"><title>10</title>\r\n",
       "<polygon fill=\"none\" stroke=\"black\" points=\"787,-306 655,-306 655,-223 787,-223 787,-306\"/>\r\n",
       "<text text-anchor=\"middle\" x=\"721\" y=\"-290.8\" font-family=\"Times New Roman,serif\" font-size=\"14.00\">income &lt;= 15576.45</text>\r\n",
       "<text text-anchor=\"middle\" x=\"721\" y=\"-275.8\" font-family=\"Times New Roman,serif\" font-size=\"14.00\">entropy = 0.621</text>\r\n",
       "<text text-anchor=\"middle\" x=\"721\" y=\"-260.8\" font-family=\"Times New Roman,serif\" font-size=\"14.00\">samples = 97</text>\r\n",
       "<text text-anchor=\"middle\" x=\"721\" y=\"-245.8\" font-family=\"Times New Roman,serif\" font-size=\"14.00\">value = [15, 82]</text>\r\n",
       "<text text-anchor=\"middle\" x=\"721\" y=\"-230.8\" font-family=\"Times New Roman,serif\" font-size=\"14.00\">class = Yes</text>\r\n",
       "</g>\r\n",
       "<!-- 2&#45;&gt;10 -->\r\n",
       "<g id=\"edge10\" class=\"edge\"><title>2&#45;&gt;10</title>\r\n",
       "<path fill=\"none\" stroke=\"black\" d=\"M721,-341.907C721,-333.649 721,-324.864 721,-316.302\"/>\r\n",
       "<polygon fill=\"black\" stroke=\"black\" points=\"724.5,-316.021 721,-306.021 717.5,-316.021 724.5,-316.021\"/>\r\n",
       "</g>\r\n",
       "<!-- 4 -->\r\n",
       "<g id=\"node5\" class=\"node\"><title>4</title>\r\n",
       "<polygon fill=\"none\" stroke=\"black\" points=\"259,-187 95,-187 95,-104 259,-104 259,-187\"/>\r\n",
       "<text text-anchor=\"middle\" x=\"177\" y=\"-171.8\" font-family=\"Times New Roman,serif\" font-size=\"14.00\">savings_acct_YES &lt;= 0.5</text>\r\n",
       "<text text-anchor=\"middle\" x=\"177\" y=\"-156.8\" font-family=\"Times New Roman,serif\" font-size=\"14.00\">entropy = 0.725</text>\r\n",
       "<text text-anchor=\"middle\" x=\"177\" y=\"-141.8\" font-family=\"Times New Roman,serif\" font-size=\"14.00\">samples = 134</text>\r\n",
       "<text text-anchor=\"middle\" x=\"177\" y=\"-126.8\" font-family=\"Times New Roman,serif\" font-size=\"14.00\">value = [107, 27]</text>\r\n",
       "<text text-anchor=\"middle\" x=\"177\" y=\"-111.8\" font-family=\"Times New Roman,serif\" font-size=\"14.00\">class = No</text>\r\n",
       "</g>\r\n",
       "<!-- 3&#45;&gt;4 -->\r\n",
       "<g id=\"edge4\" class=\"edge\"><title>3&#45;&gt;4</title>\r\n",
       "<path fill=\"none\" stroke=\"black\" d=\"M321.873,-227.601C301.819,-216.375 279.421,-203.836 258.346,-192.038\"/>\r\n",
       "<polygon fill=\"black\" stroke=\"black\" points=\"259.841,-188.864 249.406,-187.033 256.422,-194.972 259.841,-188.864\"/>\r\n",
       "</g>\r\n",
       "<!-- 7 -->\r\n",
       "<g id=\"node8\" class=\"node\"><title>7</title>\r\n",
       "<polygon fill=\"none\" stroke=\"black\" points=\"454.5,-187 317.5,-187 317.5,-104 454.5,-104 454.5,-187\"/>\r\n",
       "<text text-anchor=\"middle\" x=\"386\" y=\"-171.8\" font-family=\"Times New Roman,serif\" font-size=\"14.00\">mortgage_NO &lt;= 0.5</text>\r\n",
       "<text text-anchor=\"middle\" x=\"386\" y=\"-156.8\" font-family=\"Times New Roman,serif\" font-size=\"14.00\">entropy = 0.918</text>\r\n",
       "<text text-anchor=\"middle\" x=\"386\" y=\"-141.8\" font-family=\"Times New Roman,serif\" font-size=\"14.00\">samples = 66</text>\r\n",
       "<text text-anchor=\"middle\" x=\"386\" y=\"-126.8\" font-family=\"Times New Roman,serif\" font-size=\"14.00\">value = [22, 44]</text>\r\n",
       "<text text-anchor=\"middle\" x=\"386\" y=\"-111.8\" font-family=\"Times New Roman,serif\" font-size=\"14.00\">class = Yes</text>\r\n",
       "</g>\r\n",
       "<!-- 3&#45;&gt;7 -->\r\n",
       "<g id=\"edge7\" class=\"edge\"><title>3&#45;&gt;7</title>\r\n",
       "<path fill=\"none\" stroke=\"black\" d=\"M386,-222.907C386,-214.649 386,-205.864 386,-197.302\"/>\r\n",
       "<polygon fill=\"black\" stroke=\"black\" points=\"389.5,-197.021 386,-187.021 382.5,-197.021 389.5,-197.021\"/>\r\n",
       "</g>\r\n",
       "<!-- 5 -->\r\n",
       "<g id=\"node6\" class=\"node\"><title>5</title>\r\n",
       "<polygon fill=\"none\" stroke=\"black\" points=\"106,-68 0,-68 0,-0 106,-0 106,-68\"/>\r\n",
       "<text text-anchor=\"middle\" x=\"53\" y=\"-52.8\" font-family=\"Times New Roman,serif\" font-size=\"14.00\">entropy = 0.977</text>\r\n",
       "<text text-anchor=\"middle\" x=\"53\" y=\"-37.8\" font-family=\"Times New Roman,serif\" font-size=\"14.00\">samples = 51</text>\r\n",
       "<text text-anchor=\"middle\" x=\"53\" y=\"-22.8\" font-family=\"Times New Roman,serif\" font-size=\"14.00\">value = [30, 21]</text>\r\n",
       "<text text-anchor=\"middle\" x=\"53\" y=\"-7.8\" font-family=\"Times New Roman,serif\" font-size=\"14.00\">class = No</text>\r\n",
       "</g>\r\n",
       "<!-- 4&#45;&gt;5 -->\r\n",
       "<g id=\"edge5\" class=\"edge\"><title>4&#45;&gt;5</title>\r\n",
       "<path fill=\"none\" stroke=\"black\" d=\"M130.827,-103.726C120.189,-94.3318 108.884,-84.349 98.2836,-74.9883\"/>\r\n",
       "<polygon fill=\"black\" stroke=\"black\" points=\"100.522,-72.2953 90.7091,-68.2996 95.8882,-77.5424 100.522,-72.2953\"/>\r\n",
       "</g>\r\n",
       "<!-- 6 -->\r\n",
       "<g id=\"node7\" class=\"node\"><title>6</title>\r\n",
       "<polygon fill=\"none\" stroke=\"black\" points=\"230,-68 124,-68 124,-0 230,-0 230,-68\"/>\r\n",
       "<text text-anchor=\"middle\" x=\"177\" y=\"-52.8\" font-family=\"Times New Roman,serif\" font-size=\"14.00\">entropy = 0.374</text>\r\n",
       "<text text-anchor=\"middle\" x=\"177\" y=\"-37.8\" font-family=\"Times New Roman,serif\" font-size=\"14.00\">samples = 83</text>\r\n",
       "<text text-anchor=\"middle\" x=\"177\" y=\"-22.8\" font-family=\"Times New Roman,serif\" font-size=\"14.00\">value = [77, 6]</text>\r\n",
       "<text text-anchor=\"middle\" x=\"177\" y=\"-7.8\" font-family=\"Times New Roman,serif\" font-size=\"14.00\">class = No</text>\r\n",
       "</g>\r\n",
       "<!-- 4&#45;&gt;6 -->\r\n",
       "<g id=\"edge6\" class=\"edge\"><title>4&#45;&gt;6</title>\r\n",
       "<path fill=\"none\" stroke=\"black\" d=\"M177,-103.726C177,-95.5175 177,-86.8595 177,-78.56\"/>\r\n",
       "<polygon fill=\"black\" stroke=\"black\" points=\"180.5,-78.2996 177,-68.2996 173.5,-78.2996 180.5,-78.2996\"/>\r\n",
       "</g>\r\n",
       "<!-- 8 -->\r\n",
       "<g id=\"node9\" class=\"node\"><title>8</title>\r\n",
       "<polygon fill=\"none\" stroke=\"black\" points=\"354,-68 248,-68 248,-0 354,-0 354,-68\"/>\r\n",
       "<text text-anchor=\"middle\" x=\"301\" y=\"-52.8\" font-family=\"Times New Roman,serif\" font-size=\"14.00\">entropy = 0.948</text>\r\n",
       "<text text-anchor=\"middle\" x=\"301\" y=\"-37.8\" font-family=\"Times New Roman,serif\" font-size=\"14.00\">samples = 30</text>\r\n",
       "<text text-anchor=\"middle\" x=\"301\" y=\"-22.8\" font-family=\"Times New Roman,serif\" font-size=\"14.00\">value = [19, 11]</text>\r\n",
       "<text text-anchor=\"middle\" x=\"301\" y=\"-7.8\" font-family=\"Times New Roman,serif\" font-size=\"14.00\">class = No</text>\r\n",
       "</g>\r\n",
       "<!-- 7&#45;&gt;8 -->\r\n",
       "<g id=\"edge8\" class=\"edge\"><title>7&#45;&gt;8</title>\r\n",
       "<path fill=\"none\" stroke=\"black\" d=\"M354.349,-103.726C347.411,-94.7878 340.059,-85.3168 333.103,-76.3558\"/>\r\n",
       "<polygon fill=\"black\" stroke=\"black\" points=\"335.746,-74.0528 326.849,-68.2996 330.216,-78.3451 335.746,-74.0528\"/>\r\n",
       "</g>\r\n",
       "<!-- 9 -->\r\n",
       "<g id=\"node10\" class=\"node\"><title>9</title>\r\n",
       "<polygon fill=\"none\" stroke=\"black\" points=\"478,-68 372,-68 372,-0 478,-0 478,-68\"/>\r\n",
       "<text text-anchor=\"middle\" x=\"425\" y=\"-52.8\" font-family=\"Times New Roman,serif\" font-size=\"14.00\">entropy = 0.414</text>\r\n",
       "<text text-anchor=\"middle\" x=\"425\" y=\"-37.8\" font-family=\"Times New Roman,serif\" font-size=\"14.00\">samples = 36</text>\r\n",
       "<text text-anchor=\"middle\" x=\"425\" y=\"-22.8\" font-family=\"Times New Roman,serif\" font-size=\"14.00\">value = [3, 33]</text>\r\n",
       "<text text-anchor=\"middle\" x=\"425\" y=\"-7.8\" font-family=\"Times New Roman,serif\" font-size=\"14.00\">class = Yes</text>\r\n",
       "</g>\r\n",
       "<!-- 7&#45;&gt;9 -->\r\n",
       "<g id=\"edge9\" class=\"edge\"><title>7&#45;&gt;9</title>\r\n",
       "<path fill=\"none\" stroke=\"black\" d=\"M400.522,-103.726C403.543,-95.2439 406.735,-86.2819 409.781,-77.7312\"/>\r\n",
       "<polygon fill=\"black\" stroke=\"black\" points=\"413.082,-78.8943 413.14,-68.2996 406.487,-76.5456 413.082,-78.8943\"/>\r\n",
       "</g>\r\n",
       "<!-- 11 -->\r\n",
       "<g id=\"node12\" class=\"node\"><title>11</title>\r\n",
       "<polygon fill=\"none\" stroke=\"black\" points=\"706.5,-187 581.5,-187 581.5,-104 706.5,-104 706.5,-187\"/>\r\n",
       "<text text-anchor=\"middle\" x=\"644\" y=\"-171.8\" font-family=\"Times New Roman,serif\" font-size=\"14.00\">income &lt;= 12694.1</text>\r\n",
       "<text text-anchor=\"middle\" x=\"644\" y=\"-156.8\" font-family=\"Times New Roman,serif\" font-size=\"14.00\">entropy = 0.811</text>\r\n",
       "<text text-anchor=\"middle\" x=\"644\" y=\"-141.8\" font-family=\"Times New Roman,serif\" font-size=\"14.00\">samples = 16</text>\r\n",
       "<text text-anchor=\"middle\" x=\"644\" y=\"-126.8\" font-family=\"Times New Roman,serif\" font-size=\"14.00\">value = [12, 4]</text>\r\n",
       "<text text-anchor=\"middle\" x=\"644\" y=\"-111.8\" font-family=\"Times New Roman,serif\" font-size=\"14.00\">class = No</text>\r\n",
       "</g>\r\n",
       "<!-- 10&#45;&gt;11 -->\r\n",
       "<g id=\"edge11\" class=\"edge\"><title>10&#45;&gt;11</title>\r\n",
       "<path fill=\"none\" stroke=\"black\" d=\"M694.285,-222.907C688.492,-214.105 682.305,-204.703 676.322,-195.612\"/>\r\n",
       "<polygon fill=\"black\" stroke=\"black\" points=\"679.089,-193.45 670.668,-187.021 673.241,-197.298 679.089,-193.45\"/>\r\n",
       "</g>\r\n",
       "<!-- 14 -->\r\n",
       "<g id=\"node15\" class=\"node\"><title>14</title>\r\n",
       "<polygon fill=\"none\" stroke=\"black\" points=\"871.5,-187 724.5,-187 724.5,-104 871.5,-104 871.5,-187\"/>\r\n",
       "<text text-anchor=\"middle\" x=\"798\" y=\"-171.8\" font-family=\"Times New Roman,serif\" font-size=\"14.00\">region_RURAL &lt;= 0.5</text>\r\n",
       "<text text-anchor=\"middle\" x=\"798\" y=\"-156.8\" font-family=\"Times New Roman,serif\" font-size=\"14.00\">entropy = 0.229</text>\r\n",
       "<text text-anchor=\"middle\" x=\"798\" y=\"-141.8\" font-family=\"Times New Roman,serif\" font-size=\"14.00\">samples = 81</text>\r\n",
       "<text text-anchor=\"middle\" x=\"798\" y=\"-126.8\" font-family=\"Times New Roman,serif\" font-size=\"14.00\">value = [3, 78]</text>\r\n",
       "<text text-anchor=\"middle\" x=\"798\" y=\"-111.8\" font-family=\"Times New Roman,serif\" font-size=\"14.00\">class = Yes</text>\r\n",
       "</g>\r\n",
       "<!-- 10&#45;&gt;14 -->\r\n",
       "<g id=\"edge14\" class=\"edge\"><title>10&#45;&gt;14</title>\r\n",
       "<path fill=\"none\" stroke=\"black\" d=\"M747.715,-222.907C753.508,-214.105 759.695,-204.703 765.678,-195.612\"/>\r\n",
       "<polygon fill=\"black\" stroke=\"black\" points=\"768.759,-197.298 771.332,-187.021 762.911,-193.45 768.759,-197.298\"/>\r\n",
       "</g>\r\n",
       "<!-- 12 -->\r\n",
       "<g id=\"node13\" class=\"node\"><title>12</title>\r\n",
       "<polygon fill=\"none\" stroke=\"black\" points=\"588,-68 496,-68 496,-0 588,-0 588,-68\"/>\r\n",
       "<text text-anchor=\"middle\" x=\"542\" y=\"-52.8\" font-family=\"Times New Roman,serif\" font-size=\"14.00\">entropy = 0.0</text>\r\n",
       "<text text-anchor=\"middle\" x=\"542\" y=\"-37.8\" font-family=\"Times New Roman,serif\" font-size=\"14.00\">samples = 9</text>\r\n",
       "<text text-anchor=\"middle\" x=\"542\" y=\"-22.8\" font-family=\"Times New Roman,serif\" font-size=\"14.00\">value = [9, 0]</text>\r\n",
       "<text text-anchor=\"middle\" x=\"542\" y=\"-7.8\" font-family=\"Times New Roman,serif\" font-size=\"14.00\">class = No</text>\r\n",
       "</g>\r\n",
       "<!-- 11&#45;&gt;12 -->\r\n",
       "<g id=\"edge12\" class=\"edge\"><title>11&#45;&gt;12</title>\r\n",
       "<path fill=\"none\" stroke=\"black\" d=\"M606.019,-103.726C597.523,-94.6054 588.51,-84.93 580.013,-75.8078\"/>\r\n",
       "<polygon fill=\"black\" stroke=\"black\" points=\"582.396,-73.2312 573.019,-68.2996 577.274,-78.0025 582.396,-73.2312\"/>\r\n",
       "</g>\r\n",
       "<!-- 13 -->\r\n",
       "<g id=\"node14\" class=\"node\"><title>13</title>\r\n",
       "<polygon fill=\"none\" stroke=\"black\" points=\"712,-68 606,-68 606,-0 712,-0 712,-68\"/>\r\n",
       "<text text-anchor=\"middle\" x=\"659\" y=\"-52.8\" font-family=\"Times New Roman,serif\" font-size=\"14.00\">entropy = 0.985</text>\r\n",
       "<text text-anchor=\"middle\" x=\"659\" y=\"-37.8\" font-family=\"Times New Roman,serif\" font-size=\"14.00\">samples = 7</text>\r\n",
       "<text text-anchor=\"middle\" x=\"659\" y=\"-22.8\" font-family=\"Times New Roman,serif\" font-size=\"14.00\">value = [3, 4]</text>\r\n",
       "<text text-anchor=\"middle\" x=\"659\" y=\"-7.8\" font-family=\"Times New Roman,serif\" font-size=\"14.00\">class = Yes</text>\r\n",
       "</g>\r\n",
       "<!-- 11&#45;&gt;13 -->\r\n",
       "<g id=\"edge13\" class=\"edge\"><title>11&#45;&gt;13</title>\r\n",
       "<path fill=\"none\" stroke=\"black\" d=\"M649.585,-103.726C650.722,-95.4263 651.922,-86.6671 653.071,-78.2834\"/>\r\n",
       "<polygon fill=\"black\" stroke=\"black\" points=\"656.549,-78.6821 654.438,-68.2996 649.614,-77.732 656.549,-78.6821\"/>\r\n",
       "</g>\r\n",
       "<!-- 15 -->\r\n",
       "<g id=\"node16\" class=\"node\"><title>15</title>\r\n",
       "<polygon fill=\"none\" stroke=\"black\" points=\"836,-68 730,-68 730,-0 836,-0 836,-68\"/>\r\n",
       "<text text-anchor=\"middle\" x=\"783\" y=\"-52.8\" font-family=\"Times New Roman,serif\" font-size=\"14.00\">entropy = 0.111</text>\r\n",
       "<text text-anchor=\"middle\" x=\"783\" y=\"-37.8\" font-family=\"Times New Roman,serif\" font-size=\"14.00\">samples = 68</text>\r\n",
       "<text text-anchor=\"middle\" x=\"783\" y=\"-22.8\" font-family=\"Times New Roman,serif\" font-size=\"14.00\">value = [1, 67]</text>\r\n",
       "<text text-anchor=\"middle\" x=\"783\" y=\"-7.8\" font-family=\"Times New Roman,serif\" font-size=\"14.00\">class = Yes</text>\r\n",
       "</g>\r\n",
       "<!-- 14&#45;&gt;15 -->\r\n",
       "<g id=\"edge15\" class=\"edge\"><title>14&#45;&gt;15</title>\r\n",
       "<path fill=\"none\" stroke=\"black\" d=\"M792.415,-103.726C791.278,-95.4263 790.078,-86.6671 788.929,-78.2834\"/>\r\n",
       "<polygon fill=\"black\" stroke=\"black\" points=\"792.386,-77.732 787.562,-68.2996 785.451,-78.6821 792.386,-77.732\"/>\r\n",
       "</g>\r\n",
       "<!-- 16 -->\r\n",
       "<g id=\"node17\" class=\"node\"><title>16</title>\r\n",
       "<polygon fill=\"none\" stroke=\"black\" points=\"960,-68 854,-68 854,-0 960,-0 960,-68\"/>\r\n",
       "<text text-anchor=\"middle\" x=\"907\" y=\"-52.8\" font-family=\"Times New Roman,serif\" font-size=\"14.00\">entropy = 0.619</text>\r\n",
       "<text text-anchor=\"middle\" x=\"907\" y=\"-37.8\" font-family=\"Times New Roman,serif\" font-size=\"14.00\">samples = 13</text>\r\n",
       "<text text-anchor=\"middle\" x=\"907\" y=\"-22.8\" font-family=\"Times New Roman,serif\" font-size=\"14.00\">value = [2, 11]</text>\r\n",
       "<text text-anchor=\"middle\" x=\"907\" y=\"-7.8\" font-family=\"Times New Roman,serif\" font-size=\"14.00\">class = Yes</text>\r\n",
       "</g>\r\n",
       "<!-- 14&#45;&gt;16 -->\r\n",
       "<g id=\"edge16\" class=\"edge\"><title>14&#45;&gt;16</title>\r\n",
       "<path fill=\"none\" stroke=\"black\" d=\"M838.588,-103.726C847.758,-94.5142 857.491,-84.7364 866.651,-75.5343\"/>\r\n",
       "<polygon fill=\"black\" stroke=\"black\" points=\"869.278,-77.8561 873.852,-68.2996 864.317,-72.9176 869.278,-77.8561\"/>\r\n",
       "</g>\r\n",
       "<!-- 18 -->\r\n",
       "<g id=\"node19\" class=\"node\"><title>18</title>\r\n",
       "<polygon fill=\"none\" stroke=\"black\" points=\"1353,-306 1247,-306 1247,-223 1353,-223 1353,-306\"/>\r\n",
       "<text text-anchor=\"middle\" x=\"1300\" y=\"-290.8\" font-family=\"Times New Roman,serif\" font-size=\"14.00\">age &lt;= 34.5</text>\r\n",
       "<text text-anchor=\"middle\" x=\"1300\" y=\"-275.8\" font-family=\"Times New Roman,serif\" font-size=\"14.00\">entropy = 0.457</text>\r\n",
       "<text text-anchor=\"middle\" x=\"1300\" y=\"-260.8\" font-family=\"Times New Roman,serif\" font-size=\"14.00\">samples = 104</text>\r\n",
       "<text text-anchor=\"middle\" x=\"1300\" y=\"-245.8\" font-family=\"Times New Roman,serif\" font-size=\"14.00\">value = [94, 10]</text>\r\n",
       "<text text-anchor=\"middle\" x=\"1300\" y=\"-230.8\" font-family=\"Times New Roman,serif\" font-size=\"14.00\">class = No</text>\r\n",
       "</g>\r\n",
       "<!-- 17&#45;&gt;18 -->\r\n",
       "<g id=\"edge18\" class=\"edge\"><title>17&#45;&gt;18</title>\r\n",
       "<path fill=\"none\" stroke=\"black\" d=\"M1353.55,-341.907C1347.32,-333.014 1340.66,-323.509 1334.22,-314.331\"/>\r\n",
       "<polygon fill=\"black\" stroke=\"black\" points=\"1337,-312.201 1328.4,-306.021 1331.27,-316.219 1337,-312.201\"/>\r\n",
       "</g>\r\n",
       "<!-- 25 -->\r\n",
       "<g id=\"node26\" class=\"node\"><title>25</title>\r\n",
       "<polygon fill=\"none\" stroke=\"black\" points=\"1535,-306 1429,-306 1429,-223 1535,-223 1535,-306\"/>\r\n",
       "<text text-anchor=\"middle\" x=\"1482\" y=\"-290.8\" font-family=\"Times New Roman,serif\" font-size=\"14.00\">children &lt;= 2.5</text>\r\n",
       "<text text-anchor=\"middle\" x=\"1482\" y=\"-275.8\" font-family=\"Times New Roman,serif\" font-size=\"14.00\">entropy = 0.947</text>\r\n",
       "<text text-anchor=\"middle\" x=\"1482\" y=\"-260.8\" font-family=\"Times New Roman,serif\" font-size=\"14.00\">samples = 41</text>\r\n",
       "<text text-anchor=\"middle\" x=\"1482\" y=\"-245.8\" font-family=\"Times New Roman,serif\" font-size=\"14.00\">value = [15, 26]</text>\r\n",
       "<text text-anchor=\"middle\" x=\"1482\" y=\"-230.8\" font-family=\"Times New Roman,serif\" font-size=\"14.00\">class = Yes</text>\r\n",
       "</g>\r\n",
       "<!-- 17&#45;&gt;25 -->\r\n",
       "<g id=\"edge25\" class=\"edge\"><title>17&#45;&gt;25</title>\r\n",
       "<path fill=\"none\" stroke=\"black\" d=\"M1416.69,-341.907C1424.45,-332.832 1432.75,-323.121 1440.74,-313.769\"/>\r\n",
       "<polygon fill=\"black\" stroke=\"black\" points=\"1443.53,-315.897 1447.37,-306.021 1438.21,-311.349 1443.53,-315.897\"/>\r\n",
       "</g>\r\n",
       "<!-- 19 -->\r\n",
       "<g id=\"node20\" class=\"node\"><title>19</title>\r\n",
       "<polygon fill=\"none\" stroke=\"black\" points=\"1200,-187 1094,-187 1094,-104 1200,-104 1200,-187\"/>\r\n",
       "<text text-anchor=\"middle\" x=\"1147\" y=\"-171.8\" font-family=\"Times New Roman,serif\" font-size=\"14.00\">age &lt;= 22.5</text>\r\n",
       "<text text-anchor=\"middle\" x=\"1147\" y=\"-156.8\" font-family=\"Times New Roman,serif\" font-size=\"14.00\">entropy = 0.636</text>\r\n",
       "<text text-anchor=\"middle\" x=\"1147\" y=\"-141.8\" font-family=\"Times New Roman,serif\" font-size=\"14.00\">samples = 56</text>\r\n",
       "<text text-anchor=\"middle\" x=\"1147\" y=\"-126.8\" font-family=\"Times New Roman,serif\" font-size=\"14.00\">value = [47, 9]</text>\r\n",
       "<text text-anchor=\"middle\" x=\"1147\" y=\"-111.8\" font-family=\"Times New Roman,serif\" font-size=\"14.00\">class = No</text>\r\n",
       "</g>\r\n",
       "<!-- 18&#45;&gt;19 -->\r\n",
       "<g id=\"edge19\" class=\"edge\"><title>18&#45;&gt;19</title>\r\n",
       "<path fill=\"none\" stroke=\"black\" d=\"M1246.92,-222.907C1234.46,-213.379 1221.08,-203.148 1208.29,-193.37\"/>\r\n",
       "<polygon fill=\"black\" stroke=\"black\" points=\"1210.06,-190.315 1199.99,-187.021 1205.81,-195.876 1210.06,-190.315\"/>\r\n",
       "</g>\r\n",
       "<!-- 22 -->\r\n",
       "<g id=\"node23\" class=\"node\"><title>22</title>\r\n",
       "<polygon fill=\"none\" stroke=\"black\" points=\"1353,-187 1247,-187 1247,-104 1353,-104 1353,-187\"/>\r\n",
       "<text text-anchor=\"middle\" x=\"1300\" y=\"-171.8\" font-family=\"Times New Roman,serif\" font-size=\"14.00\">age &lt;= 49.5</text>\r\n",
       "<text text-anchor=\"middle\" x=\"1300\" y=\"-156.8\" font-family=\"Times New Roman,serif\" font-size=\"14.00\">entropy = 0.146</text>\r\n",
       "<text text-anchor=\"middle\" x=\"1300\" y=\"-141.8\" font-family=\"Times New Roman,serif\" font-size=\"14.00\">samples = 48</text>\r\n",
       "<text text-anchor=\"middle\" x=\"1300\" y=\"-126.8\" font-family=\"Times New Roman,serif\" font-size=\"14.00\">value = [47, 1]</text>\r\n",
       "<text text-anchor=\"middle\" x=\"1300\" y=\"-111.8\" font-family=\"Times New Roman,serif\" font-size=\"14.00\">class = No</text>\r\n",
       "</g>\r\n",
       "<!-- 18&#45;&gt;22 -->\r\n",
       "<g id=\"edge22\" class=\"edge\"><title>18&#45;&gt;22</title>\r\n",
       "<path fill=\"none\" stroke=\"black\" d=\"M1300,-222.907C1300,-214.649 1300,-205.864 1300,-197.302\"/>\r\n",
       "<polygon fill=\"black\" stroke=\"black\" points=\"1303.5,-197.021 1300,-187.021 1296.5,-197.021 1303.5,-197.021\"/>\r\n",
       "</g>\r\n",
       "<!-- 20 -->\r\n",
       "<g id=\"node21\" class=\"node\"><title>20</title>\r\n",
       "<polygon fill=\"none\" stroke=\"black\" points=\"1076,-68 978,-68 978,-0 1076,-0 1076,-68\"/>\r\n",
       "<text text-anchor=\"middle\" x=\"1027\" y=\"-52.8\" font-family=\"Times New Roman,serif\" font-size=\"14.00\">entropy = 0.0</text>\r\n",
       "<text text-anchor=\"middle\" x=\"1027\" y=\"-37.8\" font-family=\"Times New Roman,serif\" font-size=\"14.00\">samples = 15</text>\r\n",
       "<text text-anchor=\"middle\" x=\"1027\" y=\"-22.8\" font-family=\"Times New Roman,serif\" font-size=\"14.00\">value = [15, 0]</text>\r\n",
       "<text text-anchor=\"middle\" x=\"1027\" y=\"-7.8\" font-family=\"Times New Roman,serif\" font-size=\"14.00\">class = No</text>\r\n",
       "</g>\r\n",
       "<!-- 19&#45;&gt;20 -->\r\n",
       "<g id=\"edge20\" class=\"edge\"><title>19&#45;&gt;20</title>\r\n",
       "<path fill=\"none\" stroke=\"black\" d=\"M1102.32,-103.726C1092.12,-94.423 1081.29,-84.5428 1071.12,-75.2612\"/>\r\n",
       "<polygon fill=\"black\" stroke=\"black\" points=\"1073.24,-72.4547 1063.49,-68.2996 1068.52,-77.6255 1073.24,-72.4547\"/>\r\n",
       "</g>\r\n",
       "<!-- 21 -->\r\n",
       "<g id=\"node22\" class=\"node\"><title>21</title>\r\n",
       "<polygon fill=\"none\" stroke=\"black\" points=\"1200,-68 1094,-68 1094,-0 1200,-0 1200,-68\"/>\r\n",
       "<text text-anchor=\"middle\" x=\"1147\" y=\"-52.8\" font-family=\"Times New Roman,serif\" font-size=\"14.00\">entropy = 0.759</text>\r\n",
       "<text text-anchor=\"middle\" x=\"1147\" y=\"-37.8\" font-family=\"Times New Roman,serif\" font-size=\"14.00\">samples = 41</text>\r\n",
       "<text text-anchor=\"middle\" x=\"1147\" y=\"-22.8\" font-family=\"Times New Roman,serif\" font-size=\"14.00\">value = [32, 9]</text>\r\n",
       "<text text-anchor=\"middle\" x=\"1147\" y=\"-7.8\" font-family=\"Times New Roman,serif\" font-size=\"14.00\">class = No</text>\r\n",
       "</g>\r\n",
       "<!-- 19&#45;&gt;21 -->\r\n",
       "<g id=\"edge21\" class=\"edge\"><title>19&#45;&gt;21</title>\r\n",
       "<path fill=\"none\" stroke=\"black\" d=\"M1147,-103.726C1147,-95.5175 1147,-86.8595 1147,-78.56\"/>\r\n",
       "<polygon fill=\"black\" stroke=\"black\" points=\"1150.5,-78.2996 1147,-68.2996 1143.5,-78.2996 1150.5,-78.2996\"/>\r\n",
       "</g>\r\n",
       "<!-- 23 -->\r\n",
       "<g id=\"node24\" class=\"node\"><title>23</title>\r\n",
       "<polygon fill=\"none\" stroke=\"black\" points=\"1316,-68 1218,-68 1218,-0 1316,-0 1316,-68\"/>\r\n",
       "<text text-anchor=\"middle\" x=\"1267\" y=\"-52.8\" font-family=\"Times New Roman,serif\" font-size=\"14.00\">entropy = 0.0</text>\r\n",
       "<text text-anchor=\"middle\" x=\"1267\" y=\"-37.8\" font-family=\"Times New Roman,serif\" font-size=\"14.00\">samples = 31</text>\r\n",
       "<text text-anchor=\"middle\" x=\"1267\" y=\"-22.8\" font-family=\"Times New Roman,serif\" font-size=\"14.00\">value = [31, 0]</text>\r\n",
       "<text text-anchor=\"middle\" x=\"1267\" y=\"-7.8\" font-family=\"Times New Roman,serif\" font-size=\"14.00\">class = No</text>\r\n",
       "</g>\r\n",
       "<!-- 22&#45;&gt;23 -->\r\n",
       "<g id=\"edge23\" class=\"edge\"><title>22&#45;&gt;23</title>\r\n",
       "<path fill=\"none\" stroke=\"black\" d=\"M1287.71,-103.726C1285.18,-95.3351 1282.51,-86.4745 1279.96,-78.0072\"/>\r\n",
       "<polygon fill=\"black\" stroke=\"black\" points=\"1283.27,-76.8643 1277.04,-68.2996 1276.57,-78.8842 1283.27,-76.8643\"/>\r\n",
       "</g>\r\n",
       "<!-- 24 -->\r\n",
       "<g id=\"node25\" class=\"node\"><title>24</title>\r\n",
       "<polygon fill=\"none\" stroke=\"black\" points=\"1440,-68 1334,-68 1334,-0 1440,-0 1440,-68\"/>\r\n",
       "<text text-anchor=\"middle\" x=\"1387\" y=\"-52.8\" font-family=\"Times New Roman,serif\" font-size=\"14.00\">entropy = 0.323</text>\r\n",
       "<text text-anchor=\"middle\" x=\"1387\" y=\"-37.8\" font-family=\"Times New Roman,serif\" font-size=\"14.00\">samples = 17</text>\r\n",
       "<text text-anchor=\"middle\" x=\"1387\" y=\"-22.8\" font-family=\"Times New Roman,serif\" font-size=\"14.00\">value = [16, 1]</text>\r\n",
       "<text text-anchor=\"middle\" x=\"1387\" y=\"-7.8\" font-family=\"Times New Roman,serif\" font-size=\"14.00\">class = No</text>\r\n",
       "</g>\r\n",
       "<!-- 22&#45;&gt;24 -->\r\n",
       "<g id=\"edge24\" class=\"edge\"><title>22&#45;&gt;24</title>\r\n",
       "<path fill=\"none\" stroke=\"black\" d=\"M1332.4,-103.726C1339.5,-94.7878 1347.02,-85.3168 1354.14,-76.3558\"/>\r\n",
       "<polygon fill=\"black\" stroke=\"black\" points=\"1357.06,-78.3065 1360.54,-68.2996 1351.58,-73.9519 1357.06,-78.3065\"/>\r\n",
       "</g>\r\n",
       "<!-- 26 -->\r\n",
       "<g id=\"node27\" class=\"node\"><title>26</title>\r\n",
       "<polygon fill=\"none\" stroke=\"black\" points=\"1564,-187 1458,-187 1458,-104 1564,-104 1564,-187\"/>\r\n",
       "<text text-anchor=\"middle\" x=\"1511\" y=\"-171.8\" font-family=\"Times New Roman,serif\" font-size=\"14.00\">age &lt;= 46.5</text>\r\n",
       "<text text-anchor=\"middle\" x=\"1511\" y=\"-156.8\" font-family=\"Times New Roman,serif\" font-size=\"14.00\">entropy = 0.544</text>\r\n",
       "<text text-anchor=\"middle\" x=\"1511\" y=\"-141.8\" font-family=\"Times New Roman,serif\" font-size=\"14.00\">samples = 24</text>\r\n",
       "<text text-anchor=\"middle\" x=\"1511\" y=\"-126.8\" font-family=\"Times New Roman,serif\" font-size=\"14.00\">value = [3, 21]</text>\r\n",
       "<text text-anchor=\"middle\" x=\"1511\" y=\"-111.8\" font-family=\"Times New Roman,serif\" font-size=\"14.00\">class = Yes</text>\r\n",
       "</g>\r\n",
       "<!-- 25&#45;&gt;26 -->\r\n",
       "<g id=\"edge26\" class=\"edge\"><title>25&#45;&gt;26</title>\r\n",
       "<path fill=\"none\" stroke=\"black\" d=\"M1492.06,-222.907C1494.15,-214.468 1496.38,-205.477 1498.55,-196.738\"/>\r\n",
       "<polygon fill=\"black\" stroke=\"black\" points=\"1501.95,-197.569 1500.96,-187.021 1495.15,-195.885 1501.95,-197.569\"/>\r\n",
       "</g>\r\n",
       "<!-- 29 -->\r\n",
       "<g id=\"node30\" class=\"node\"><title>29</title>\r\n",
       "<polygon fill=\"none\" stroke=\"black\" points=\"1820.5,-187 1681.5,-187 1681.5,-104 1820.5,-104 1820.5,-187\"/>\r\n",
       "<text text-anchor=\"middle\" x=\"1751\" y=\"-171.8\" font-family=\"Times New Roman,serif\" font-size=\"14.00\">income &lt;= 44387.549</text>\r\n",
       "<text text-anchor=\"middle\" x=\"1751\" y=\"-156.8\" font-family=\"Times New Roman,serif\" font-size=\"14.00\">entropy = 0.874</text>\r\n",
       "<text text-anchor=\"middle\" x=\"1751\" y=\"-141.8\" font-family=\"Times New Roman,serif\" font-size=\"14.00\">samples = 17</text>\r\n",
       "<text text-anchor=\"middle\" x=\"1751\" y=\"-126.8\" font-family=\"Times New Roman,serif\" font-size=\"14.00\">value = [12, 5]</text>\r\n",
       "<text text-anchor=\"middle\" x=\"1751\" y=\"-111.8\" font-family=\"Times New Roman,serif\" font-size=\"14.00\">class = No</text>\r\n",
       "</g>\r\n",
       "<!-- 25&#45;&gt;29 -->\r\n",
       "<g id=\"edge29\" class=\"edge\"><title>25&#45;&gt;29</title>\r\n",
       "<path fill=\"none\" stroke=\"black\" d=\"M1535.33,-227.613C1538.23,-225.994 1541.13,-224.445 1544,-223 1584.7,-202.515 1632.25,-184.554 1671.51,-171.192\"/>\r\n",
       "<polygon fill=\"black\" stroke=\"black\" points=\"1672.95,-174.403 1681.31,-167.895 1670.71,-167.769 1672.95,-174.403\"/>\r\n",
       "</g>\r\n",
       "<!-- 27 -->\r\n",
       "<g id=\"node28\" class=\"node\"><title>27</title>\r\n",
       "<polygon fill=\"none\" stroke=\"black\" points=\"1564,-68 1458,-68 1458,-0 1564,-0 1564,-68\"/>\r\n",
       "<text text-anchor=\"middle\" x=\"1511\" y=\"-52.8\" font-family=\"Times New Roman,serif\" font-size=\"14.00\">entropy = 0.954</text>\r\n",
       "<text text-anchor=\"middle\" x=\"1511\" y=\"-37.8\" font-family=\"Times New Roman,serif\" font-size=\"14.00\">samples = 8</text>\r\n",
       "<text text-anchor=\"middle\" x=\"1511\" y=\"-22.8\" font-family=\"Times New Roman,serif\" font-size=\"14.00\">value = [3, 5]</text>\r\n",
       "<text text-anchor=\"middle\" x=\"1511\" y=\"-7.8\" font-family=\"Times New Roman,serif\" font-size=\"14.00\">class = Yes</text>\r\n",
       "</g>\r\n",
       "<!-- 26&#45;&gt;27 -->\r\n",
       "<g id=\"edge27\" class=\"edge\"><title>26&#45;&gt;27</title>\r\n",
       "<path fill=\"none\" stroke=\"black\" d=\"M1511,-103.726C1511,-95.5175 1511,-86.8595 1511,-78.56\"/>\r\n",
       "<polygon fill=\"black\" stroke=\"black\" points=\"1514.5,-78.2996 1511,-68.2996 1507.5,-78.2996 1514.5,-78.2996\"/>\r\n",
       "</g>\r\n",
       "<!-- 28 -->\r\n",
       "<g id=\"node29\" class=\"node\"><title>28</title>\r\n",
       "<polygon fill=\"none\" stroke=\"black\" points=\"1680,-68 1582,-68 1582,-0 1680,-0 1680,-68\"/>\r\n",
       "<text text-anchor=\"middle\" x=\"1631\" y=\"-52.8\" font-family=\"Times New Roman,serif\" font-size=\"14.00\">entropy = 0.0</text>\r\n",
       "<text text-anchor=\"middle\" x=\"1631\" y=\"-37.8\" font-family=\"Times New Roman,serif\" font-size=\"14.00\">samples = 16</text>\r\n",
       "<text text-anchor=\"middle\" x=\"1631\" y=\"-22.8\" font-family=\"Times New Roman,serif\" font-size=\"14.00\">value = [0, 16]</text>\r\n",
       "<text text-anchor=\"middle\" x=\"1631\" y=\"-7.8\" font-family=\"Times New Roman,serif\" font-size=\"14.00\">class = Yes</text>\r\n",
       "</g>\r\n",
       "<!-- 26&#45;&gt;28 -->\r\n",
       "<g id=\"edge28\" class=\"edge\"><title>26&#45;&gt;28</title>\r\n",
       "<path fill=\"none\" stroke=\"black\" d=\"M1555.68,-103.726C1565.88,-94.423 1576.71,-84.5428 1586.88,-75.2612\"/>\r\n",
       "<polygon fill=\"black\" stroke=\"black\" points=\"1589.48,-77.6255 1594.51,-68.2996 1584.76,-72.4547 1589.48,-77.6255\"/>\r\n",
       "</g>\r\n",
       "<!-- 30 -->\r\n",
       "<g id=\"node31\" class=\"node\"><title>30</title>\r\n",
       "<polygon fill=\"none\" stroke=\"black\" points=\"1804,-68 1698,-68 1698,-0 1804,-0 1804,-68\"/>\r\n",
       "<text text-anchor=\"middle\" x=\"1751\" y=\"-52.8\" font-family=\"Times New Roman,serif\" font-size=\"14.00\">entropy = 0.391</text>\r\n",
       "<text text-anchor=\"middle\" x=\"1751\" y=\"-37.8\" font-family=\"Times New Roman,serif\" font-size=\"14.00\">samples = 13</text>\r\n",
       "<text text-anchor=\"middle\" x=\"1751\" y=\"-22.8\" font-family=\"Times New Roman,serif\" font-size=\"14.00\">value = [12, 1]</text>\r\n",
       "<text text-anchor=\"middle\" x=\"1751\" y=\"-7.8\" font-family=\"Times New Roman,serif\" font-size=\"14.00\">class = No</text>\r\n",
       "</g>\r\n",
       "<!-- 29&#45;&gt;30 -->\r\n",
       "<g id=\"edge30\" class=\"edge\"><title>29&#45;&gt;30</title>\r\n",
       "<path fill=\"none\" stroke=\"black\" d=\"M1751,-103.726C1751,-95.5175 1751,-86.8595 1751,-78.56\"/>\r\n",
       "<polygon fill=\"black\" stroke=\"black\" points=\"1754.5,-78.2996 1751,-68.2996 1747.5,-78.2996 1754.5,-78.2996\"/>\r\n",
       "</g>\r\n",
       "<!-- 31 -->\r\n",
       "<g id=\"node32\" class=\"node\"><title>31</title>\r\n",
       "<polygon fill=\"none\" stroke=\"black\" points=\"1914,-68 1822,-68 1822,-0 1914,-0 1914,-68\"/>\r\n",
       "<text text-anchor=\"middle\" x=\"1868\" y=\"-52.8\" font-family=\"Times New Roman,serif\" font-size=\"14.00\">entropy = 0.0</text>\r\n",
       "<text text-anchor=\"middle\" x=\"1868\" y=\"-37.8\" font-family=\"Times New Roman,serif\" font-size=\"14.00\">samples = 4</text>\r\n",
       "<text text-anchor=\"middle\" x=\"1868\" y=\"-22.8\" font-family=\"Times New Roman,serif\" font-size=\"14.00\">value = [0, 4]</text>\r\n",
       "<text text-anchor=\"middle\" x=\"1868\" y=\"-7.8\" font-family=\"Times New Roman,serif\" font-size=\"14.00\">class = Yes</text>\r\n",
       "</g>\r\n",
       "<!-- 29&#45;&gt;31 -->\r\n",
       "<g id=\"edge31\" class=\"edge\"><title>29&#45;&gt;31</title>\r\n",
       "<path fill=\"none\" stroke=\"black\" d=\"M1794.57,-103.726C1804.51,-94.423 1815.06,-84.5428 1824.98,-75.2612\"/>\r\n",
       "<polygon fill=\"black\" stroke=\"black\" points=\"1827.51,-77.6882 1832.42,-68.2996 1822.73,-72.5774 1827.51,-77.6882\"/>\r\n",
       "</g>\r\n",
       "<!-- 33 -->\r\n",
       "<g id=\"node34\" class=\"node\"><title>33</title>\r\n",
       "<polygon fill=\"none\" stroke=\"black\" points=\"1652,-425 1546,-425 1546,-342 1652,-342 1652,-425\"/>\r\n",
       "<text text-anchor=\"middle\" x=\"1599\" y=\"-409.8\" font-family=\"Times New Roman,serif\" font-size=\"14.00\">age &lt;= 63.5</text>\r\n",
       "<text text-anchor=\"middle\" x=\"1599\" y=\"-394.8\" font-family=\"Times New Roman,serif\" font-size=\"14.00\">entropy = 0.881</text>\r\n",
       "<text text-anchor=\"middle\" x=\"1599\" y=\"-379.8\" font-family=\"Times New Roman,serif\" font-size=\"14.00\">samples = 10</text>\r\n",
       "<text text-anchor=\"middle\" x=\"1599\" y=\"-364.8\" font-family=\"Times New Roman,serif\" font-size=\"14.00\">value = [7, 3]</text>\r\n",
       "<text text-anchor=\"middle\" x=\"1599\" y=\"-349.8\" font-family=\"Times New Roman,serif\" font-size=\"14.00\">class = No</text>\r\n",
       "</g>\r\n",
       "<!-- 32&#45;&gt;33 -->\r\n",
       "<g id=\"edge33\" class=\"edge\"><title>32&#45;&gt;33</title>\r\n",
       "<path fill=\"none\" stroke=\"black\" d=\"M1599,-460.907C1599,-452.649 1599,-443.864 1599,-435.302\"/>\r\n",
       "<polygon fill=\"black\" stroke=\"black\" points=\"1602.5,-435.021 1599,-425.021 1595.5,-435.021 1602.5,-435.021\"/>\r\n",
       "</g>\r\n",
       "<!-- 36 -->\r\n",
       "<g id=\"node37\" class=\"node\"><title>36</title>\r\n",
       "<polygon fill=\"none\" stroke=\"black\" points=\"1768,-417.5 1670,-417.5 1670,-349.5 1768,-349.5 1768,-417.5\"/>\r\n",
       "<text text-anchor=\"middle\" x=\"1719\" y=\"-402.3\" font-family=\"Times New Roman,serif\" font-size=\"14.00\">entropy = 0.0</text>\r\n",
       "<text text-anchor=\"middle\" x=\"1719\" y=\"-387.3\" font-family=\"Times New Roman,serif\" font-size=\"14.00\">samples = 28</text>\r\n",
       "<text text-anchor=\"middle\" x=\"1719\" y=\"-372.3\" font-family=\"Times New Roman,serif\" font-size=\"14.00\">value = [0, 28]</text>\r\n",
       "<text text-anchor=\"middle\" x=\"1719\" y=\"-357.3\" font-family=\"Times New Roman,serif\" font-size=\"14.00\">class = Yes</text>\r\n",
       "</g>\r\n",
       "<!-- 32&#45;&gt;36 -->\r\n",
       "<g id=\"edge36\" class=\"edge\"><title>32&#45;&gt;36</title>\r\n",
       "<path fill=\"none\" stroke=\"black\" d=\"M1640.63,-460.907C1652.63,-449.211 1665.71,-436.457 1677.69,-424.78\"/>\r\n",
       "<polygon fill=\"black\" stroke=\"black\" points=\"1680.27,-427.154 1684.98,-417.667 1675.38,-422.142 1680.27,-427.154\"/>\r\n",
       "</g>\r\n",
       "<!-- 34 -->\r\n",
       "<g id=\"node35\" class=\"node\"><title>34</title>\r\n",
       "<polygon fill=\"none\" stroke=\"black\" points=\"1645,-298.5 1553,-298.5 1553,-230.5 1645,-230.5 1645,-298.5\"/>\r\n",
       "<text text-anchor=\"middle\" x=\"1599\" y=\"-283.3\" font-family=\"Times New Roman,serif\" font-size=\"14.00\">entropy = 1.0</text>\r\n",
       "<text text-anchor=\"middle\" x=\"1599\" y=\"-268.3\" font-family=\"Times New Roman,serif\" font-size=\"14.00\">samples = 6</text>\r\n",
       "<text text-anchor=\"middle\" x=\"1599\" y=\"-253.3\" font-family=\"Times New Roman,serif\" font-size=\"14.00\">value = [3, 3]</text>\r\n",
       "<text text-anchor=\"middle\" x=\"1599\" y=\"-238.3\" font-family=\"Times New Roman,serif\" font-size=\"14.00\">class = No</text>\r\n",
       "</g>\r\n",
       "<!-- 33&#45;&gt;34 -->\r\n",
       "<g id=\"edge34\" class=\"edge\"><title>33&#45;&gt;34</title>\r\n",
       "<path fill=\"none\" stroke=\"black\" d=\"M1599,-341.907C1599,-331.204 1599,-319.615 1599,-308.776\"/>\r\n",
       "<polygon fill=\"black\" stroke=\"black\" points=\"1602.5,-308.667 1599,-298.667 1595.5,-308.667 1602.5,-308.667\"/>\r\n",
       "</g>\r\n",
       "<!-- 35 -->\r\n",
       "<g id=\"node36\" class=\"node\"><title>35</title>\r\n",
       "<polygon fill=\"none\" stroke=\"black\" points=\"1755,-298.5 1663,-298.5 1663,-230.5 1755,-230.5 1755,-298.5\"/>\r\n",
       "<text text-anchor=\"middle\" x=\"1709\" y=\"-283.3\" font-family=\"Times New Roman,serif\" font-size=\"14.00\">entropy = 0.0</text>\r\n",
       "<text text-anchor=\"middle\" x=\"1709\" y=\"-268.3\" font-family=\"Times New Roman,serif\" font-size=\"14.00\">samples = 4</text>\r\n",
       "<text text-anchor=\"middle\" x=\"1709\" y=\"-253.3\" font-family=\"Times New Roman,serif\" font-size=\"14.00\">value = [4, 0]</text>\r\n",
       "<text text-anchor=\"middle\" x=\"1709\" y=\"-238.3\" font-family=\"Times New Roman,serif\" font-size=\"14.00\">class = No</text>\r\n",
       "</g>\r\n",
       "<!-- 33&#45;&gt;35 -->\r\n",
       "<g id=\"edge35\" class=\"edge\"><title>33&#45;&gt;35</title>\r\n",
       "<path fill=\"none\" stroke=\"black\" d=\"M1637.16,-341.907C1648.06,-330.321 1659.93,-317.698 1670.82,-306.111\"/>\r\n",
       "<polygon fill=\"black\" stroke=\"black\" points=\"1673.52,-308.35 1677.82,-298.667 1668.42,-303.555 1673.52,-308.35\"/>\r\n",
       "</g>\r\n",
       "</g>\r\n",
       "</svg>\r\n"
      ],
      "text/plain": [
       "<graphviz.files.Source at 0x153cdaecc48>"
      ]
     },
     "execution_count": 598,
     "metadata": {},
     "output_type": "execute_result"
    }
   ],
   "source": [
    "tree_graph = export_graphviz(treeclf2, out_file=\"tree.dot\", feature_names=bk_train.columns, class_names=['No','Yes'])\n",
    "import graphviz\n",
    "\n",
    "with open(\"tree.dot\") as f:\n",
    "    dot_graph = f.read()\n",
    "graphviz.Source(dot_graph, format=\"png\")"
   ]
  },
  {
   "cell_type": "code",
   "execution_count": 599,
   "metadata": {},
   "outputs": [
    {
     "data": {
      "text/plain": [
       "[]"
      ]
     },
     "execution_count": 599,
     "metadata": {},
     "output_type": "execute_result"
    }
   ],
   "source": [
    "system(dot -Tpng tree.dot -o dtree.png)"
   ]
  },
  {
   "cell_type": "markdown",
   "metadata": {},
   "source": [
    "### Problem 3\n",
    "#### a) \n",
    "#### 1. Examine the data for missing values. In case of categorical attributes, remove instances with missing values. In the case of numeric attributes, impute and fill-in the missing values using the attribute mean."
   ]
  },
  {
   "cell_type": "code",
   "execution_count": 600,
   "metadata": {},
   "outputs": [],
   "source": [
    "adult = pd.read_csv(\"adult-modified.csv\", na_values=[\"?\"])"
   ]
  },
  {
   "cell_type": "code",
   "execution_count": 601,
   "metadata": {},
   "outputs": [
    {
     "name": "stdout",
     "output_type": "stream",
     "text": [
      "<class 'pandas.core.frame.DataFrame'>\n",
      "RangeIndex: 10000 entries, 0 to 9999\n",
      "Data columns (total 8 columns):\n",
      "age               9802 non-null float64\n",
      "workclass         9412 non-null object\n",
      "education         10000 non-null int64\n",
      "marital-status    10000 non-null object\n",
      "race              10000 non-null object\n",
      "sex               10000 non-null object\n",
      "hours-per-week    10000 non-null int64\n",
      "income            10000 non-null object\n",
      "dtypes: float64(1), int64(2), object(5)\n",
      "memory usage: 625.1+ KB\n",
      "None\n"
     ]
    }
   ],
   "source": [
    "print(adult.info())"
   ]
  },
  {
   "cell_type": "code",
   "execution_count": 602,
   "metadata": {},
   "outputs": [
    {
     "data": {
      "text/html": [
       "<div>\n",
       "<style scoped>\n",
       "    .dataframe tbody tr th:only-of-type {\n",
       "        vertical-align: middle;\n",
       "    }\n",
       "\n",
       "    .dataframe tbody tr th {\n",
       "        vertical-align: top;\n",
       "    }\n",
       "\n",
       "    .dataframe thead th {\n",
       "        text-align: right;\n",
       "    }\n",
       "</style>\n",
       "<table border=\"1\" class=\"dataframe\">\n",
       "  <thead>\n",
       "    <tr style=\"text-align: right;\">\n",
       "      <th></th>\n",
       "      <th>age</th>\n",
       "      <th>workclass</th>\n",
       "      <th>education</th>\n",
       "      <th>marital-status</th>\n",
       "      <th>race</th>\n",
       "      <th>sex</th>\n",
       "      <th>hours-per-week</th>\n",
       "      <th>income</th>\n",
       "    </tr>\n",
       "  </thead>\n",
       "  <tbody>\n",
       "    <tr>\n",
       "      <td>0</td>\n",
       "      <td>39.000000</td>\n",
       "      <td>Public</td>\n",
       "      <td>13</td>\n",
       "      <td>Single</td>\n",
       "      <td>White</td>\n",
       "      <td>Male</td>\n",
       "      <td>40</td>\n",
       "      <td>&lt;=50K</td>\n",
       "    </tr>\n",
       "    <tr>\n",
       "      <td>1</td>\n",
       "      <td>50.000000</td>\n",
       "      <td>Self-emp</td>\n",
       "      <td>13</td>\n",
       "      <td>Married</td>\n",
       "      <td>White</td>\n",
       "      <td>Male</td>\n",
       "      <td>13</td>\n",
       "      <td>&lt;=50K</td>\n",
       "    </tr>\n",
       "    <tr>\n",
       "      <td>2</td>\n",
       "      <td>38.000000</td>\n",
       "      <td>Private</td>\n",
       "      <td>9</td>\n",
       "      <td>Single</td>\n",
       "      <td>White</td>\n",
       "      <td>Male</td>\n",
       "      <td>40</td>\n",
       "      <td>&lt;=50K</td>\n",
       "    </tr>\n",
       "    <tr>\n",
       "      <td>3</td>\n",
       "      <td>53.000000</td>\n",
       "      <td>Private</td>\n",
       "      <td>7</td>\n",
       "      <td>Married</td>\n",
       "      <td>Black</td>\n",
       "      <td>Male</td>\n",
       "      <td>40</td>\n",
       "      <td>&lt;=50K</td>\n",
       "    </tr>\n",
       "    <tr>\n",
       "      <td>4</td>\n",
       "      <td>28.000000</td>\n",
       "      <td>Private</td>\n",
       "      <td>13</td>\n",
       "      <td>Married</td>\n",
       "      <td>Black</td>\n",
       "      <td>Female</td>\n",
       "      <td>40</td>\n",
       "      <td>&lt;=50K</td>\n",
       "    </tr>\n",
       "    <tr>\n",
       "      <td>...</td>\n",
       "      <td>...</td>\n",
       "      <td>...</td>\n",
       "      <td>...</td>\n",
       "      <td>...</td>\n",
       "      <td>...</td>\n",
       "      <td>...</td>\n",
       "      <td>...</td>\n",
       "      <td>...</td>\n",
       "    </tr>\n",
       "    <tr>\n",
       "      <td>9407</td>\n",
       "      <td>38.000000</td>\n",
       "      <td>Private</td>\n",
       "      <td>10</td>\n",
       "      <td>Married</td>\n",
       "      <td>White</td>\n",
       "      <td>Male</td>\n",
       "      <td>60</td>\n",
       "      <td>&gt;50K</td>\n",
       "    </tr>\n",
       "    <tr>\n",
       "      <td>9408</td>\n",
       "      <td>25.000000</td>\n",
       "      <td>Private</td>\n",
       "      <td>9</td>\n",
       "      <td>Single</td>\n",
       "      <td>White</td>\n",
       "      <td>Female</td>\n",
       "      <td>8</td>\n",
       "      <td>&lt;=50K</td>\n",
       "    </tr>\n",
       "    <tr>\n",
       "      <td>9409</td>\n",
       "      <td>21.000000</td>\n",
       "      <td>Private</td>\n",
       "      <td>10</td>\n",
       "      <td>Single</td>\n",
       "      <td>Black</td>\n",
       "      <td>Male</td>\n",
       "      <td>40</td>\n",
       "      <td>&lt;=50K</td>\n",
       "    </tr>\n",
       "    <tr>\n",
       "      <td>9410</td>\n",
       "      <td>38.449806</td>\n",
       "      <td>Private</td>\n",
       "      <td>2</td>\n",
       "      <td>Married</td>\n",
       "      <td>White</td>\n",
       "      <td>Male</td>\n",
       "      <td>53</td>\n",
       "      <td>&lt;=50K</td>\n",
       "    </tr>\n",
       "    <tr>\n",
       "      <td>9411</td>\n",
       "      <td>39.000000</td>\n",
       "      <td>Private</td>\n",
       "      <td>10</td>\n",
       "      <td>Single</td>\n",
       "      <td>White</td>\n",
       "      <td>Female</td>\n",
       "      <td>40</td>\n",
       "      <td>&lt;=50K</td>\n",
       "    </tr>\n",
       "  </tbody>\n",
       "</table>\n",
       "<p>9412 rows × 8 columns</p>\n",
       "</div>"
      ],
      "text/plain": [
       "            age workclass  education marital-status   race     sex  \\\n",
       "0     39.000000    Public         13         Single  White    Male   \n",
       "1     50.000000  Self-emp         13        Married  White    Male   \n",
       "2     38.000000   Private          9         Single  White    Male   \n",
       "3     53.000000   Private          7        Married  Black    Male   \n",
       "4     28.000000   Private         13        Married  Black  Female   \n",
       "...         ...       ...        ...            ...    ...     ...   \n",
       "9407  38.000000   Private         10        Married  White    Male   \n",
       "9408  25.000000   Private          9         Single  White  Female   \n",
       "9409  21.000000   Private         10         Single  Black    Male   \n",
       "9410  38.449806   Private          2        Married  White    Male   \n",
       "9411  39.000000   Private         10         Single  White  Female   \n",
       "\n",
       "      hours-per-week income  \n",
       "0                 40  <=50K  \n",
       "1                 13  <=50K  \n",
       "2                 40  <=50K  \n",
       "3                 40  <=50K  \n",
       "4                 40  <=50K  \n",
       "...              ...    ...  \n",
       "9407              60   >50K  \n",
       "9408               8  <=50K  \n",
       "9409              40  <=50K  \n",
       "9410              53  <=50K  \n",
       "9411              40  <=50K  \n",
       "\n",
       "[9412 rows x 8 columns]"
      ]
     },
     "execution_count": 602,
     "metadata": {},
     "output_type": "execute_result"
    }
   ],
   "source": [
    "age_mean = adult.age.mean()\n",
    "adult.age.fillna(age_mean, axis=0, inplace=True)\n",
    "adult.dropna(inplace=True)\n",
    "adult.reset_index(drop=True, inplace=True)\n",
    "adult"
   ]
  },
  {
   "cell_type": "markdown",
   "metadata": {},
   "source": [
    "#### 2. Examine the characteristics of the attributes, includingsummary statistics for the attributea, histograms illustrating the distribtions of numeric attributes, and bar graphs showing value counts for categorical attributes."
   ]
  },
  {
   "cell_type": "code",
   "execution_count": 603,
   "metadata": {},
   "outputs": [
    {
     "data": {
      "text/html": [
       "<div>\n",
       "<style scoped>\n",
       "    .dataframe tbody tr th:only-of-type {\n",
       "        vertical-align: middle;\n",
       "    }\n",
       "\n",
       "    .dataframe tbody tr th {\n",
       "        vertical-align: top;\n",
       "    }\n",
       "\n",
       "    .dataframe thead th {\n",
       "        text-align: right;\n",
       "    }\n",
       "</style>\n",
       "<table border=\"1\" class=\"dataframe\">\n",
       "  <thead>\n",
       "    <tr style=\"text-align: right;\">\n",
       "      <th></th>\n",
       "      <th>age</th>\n",
       "      <th>workclass</th>\n",
       "      <th>education</th>\n",
       "      <th>marital-status</th>\n",
       "      <th>race</th>\n",
       "      <th>sex</th>\n",
       "      <th>hours-per-week</th>\n",
       "      <th>income</th>\n",
       "    </tr>\n",
       "  </thead>\n",
       "  <tbody>\n",
       "    <tr>\n",
       "      <td>count</td>\n",
       "      <td>9412.000000</td>\n",
       "      <td>9412</td>\n",
       "      <td>9412.000000</td>\n",
       "      <td>9412</td>\n",
       "      <td>9412</td>\n",
       "      <td>9412</td>\n",
       "      <td>9412.000000</td>\n",
       "      <td>9412</td>\n",
       "    </tr>\n",
       "    <tr>\n",
       "      <td>unique</td>\n",
       "      <td>NaN</td>\n",
       "      <td>3</td>\n",
       "      <td>NaN</td>\n",
       "      <td>2</td>\n",
       "      <td>5</td>\n",
       "      <td>2</td>\n",
       "      <td>NaN</td>\n",
       "      <td>2</td>\n",
       "    </tr>\n",
       "    <tr>\n",
       "      <td>top</td>\n",
       "      <td>NaN</td>\n",
       "      <td>Private</td>\n",
       "      <td>NaN</td>\n",
       "      <td>Married</td>\n",
       "      <td>White</td>\n",
       "      <td>Male</td>\n",
       "      <td>NaN</td>\n",
       "      <td>&lt;=50K</td>\n",
       "    </tr>\n",
       "    <tr>\n",
       "      <td>freq</td>\n",
       "      <td>NaN</td>\n",
       "      <td>6947</td>\n",
       "      <td>NaN</td>\n",
       "      <td>4737</td>\n",
       "      <td>8062</td>\n",
       "      <td>6383</td>\n",
       "      <td>NaN</td>\n",
       "      <td>7093</td>\n",
       "    </tr>\n",
       "    <tr>\n",
       "      <td>mean</td>\n",
       "      <td>38.366342</td>\n",
       "      <td>NaN</td>\n",
       "      <td>10.125266</td>\n",
       "      <td>NaN</td>\n",
       "      <td>NaN</td>\n",
       "      <td>NaN</td>\n",
       "      <td>41.080217</td>\n",
       "      <td>NaN</td>\n",
       "    </tr>\n",
       "    <tr>\n",
       "      <td>std</td>\n",
       "      <td>12.962039</td>\n",
       "      <td>NaN</td>\n",
       "      <td>2.542118</td>\n",
       "      <td>NaN</td>\n",
       "      <td>NaN</td>\n",
       "      <td>NaN</td>\n",
       "      <td>11.884590</td>\n",
       "      <td>NaN</td>\n",
       "    </tr>\n",
       "    <tr>\n",
       "      <td>min</td>\n",
       "      <td>17.000000</td>\n",
       "      <td>NaN</td>\n",
       "      <td>1.000000</td>\n",
       "      <td>NaN</td>\n",
       "      <td>NaN</td>\n",
       "      <td>NaN</td>\n",
       "      <td>1.000000</td>\n",
       "      <td>NaN</td>\n",
       "    </tr>\n",
       "    <tr>\n",
       "      <td>25%</td>\n",
       "      <td>28.000000</td>\n",
       "      <td>NaN</td>\n",
       "      <td>9.000000</td>\n",
       "      <td>NaN</td>\n",
       "      <td>NaN</td>\n",
       "      <td>NaN</td>\n",
       "      <td>40.000000</td>\n",
       "      <td>NaN</td>\n",
       "    </tr>\n",
       "    <tr>\n",
       "      <td>50%</td>\n",
       "      <td>37.000000</td>\n",
       "      <td>NaN</td>\n",
       "      <td>10.000000</td>\n",
       "      <td>NaN</td>\n",
       "      <td>NaN</td>\n",
       "      <td>NaN</td>\n",
       "      <td>40.000000</td>\n",
       "      <td>NaN</td>\n",
       "    </tr>\n",
       "    <tr>\n",
       "      <td>75%</td>\n",
       "      <td>47.000000</td>\n",
       "      <td>NaN</td>\n",
       "      <td>13.000000</td>\n",
       "      <td>NaN</td>\n",
       "      <td>NaN</td>\n",
       "      <td>NaN</td>\n",
       "      <td>45.000000</td>\n",
       "      <td>NaN</td>\n",
       "    </tr>\n",
       "    <tr>\n",
       "      <td>max</td>\n",
       "      <td>90.000000</td>\n",
       "      <td>NaN</td>\n",
       "      <td>16.000000</td>\n",
       "      <td>NaN</td>\n",
       "      <td>NaN</td>\n",
       "      <td>NaN</td>\n",
       "      <td>99.000000</td>\n",
       "      <td>NaN</td>\n",
       "    </tr>\n",
       "  </tbody>\n",
       "</table>\n",
       "</div>"
      ],
      "text/plain": [
       "                age workclass    education marital-status   race   sex  \\\n",
       "count   9412.000000      9412  9412.000000           9412   9412  9412   \n",
       "unique          NaN         3          NaN              2      5     2   \n",
       "top             NaN   Private          NaN        Married  White  Male   \n",
       "freq            NaN      6947          NaN           4737   8062  6383   \n",
       "mean      38.366342       NaN    10.125266            NaN    NaN   NaN   \n",
       "std       12.962039       NaN     2.542118            NaN    NaN   NaN   \n",
       "min       17.000000       NaN     1.000000            NaN    NaN   NaN   \n",
       "25%       28.000000       NaN     9.000000            NaN    NaN   NaN   \n",
       "50%       37.000000       NaN    10.000000            NaN    NaN   NaN   \n",
       "75%       47.000000       NaN    13.000000            NaN    NaN   NaN   \n",
       "max       90.000000       NaN    16.000000            NaN    NaN   NaN   \n",
       "\n",
       "        hours-per-week income  \n",
       "count      9412.000000   9412  \n",
       "unique             NaN      2  \n",
       "top                NaN  <=50K  \n",
       "freq               NaN   7093  \n",
       "mean         41.080217    NaN  \n",
       "std          11.884590    NaN  \n",
       "min           1.000000    NaN  \n",
       "25%          40.000000    NaN  \n",
       "50%          40.000000    NaN  \n",
       "75%          45.000000    NaN  \n",
       "max          99.000000    NaN  "
      ]
     },
     "execution_count": 603,
     "metadata": {},
     "output_type": "execute_result"
    }
   ],
   "source": [
    "adult.describe(include=\"all\")"
   ]
  },
  {
   "cell_type": "code",
   "execution_count": 604,
   "metadata": {},
   "outputs": [
    {
     "data": {
      "image/png": "[encoded data removed]",
      "text/plain": [
       "<Figure size 432x288 with 1 Axes>"
      ]
     },
     "metadata": {
      "needs_background": "light"
     },
     "output_type": "display_data"
    }
   ],
   "source": [
    "plt.hist(adult.age)\n",
    "plt.show()"
   ]
  },
  {
   "cell_type": "code",
   "execution_count": 605,
   "metadata": {},
   "outputs": [
    {
     "data": {
      "image/png": "[encoded data removed]",
      "text/plain": [
       "<Figure size 432x288 with 1 Axes>"
      ]
     },
     "metadata": {
      "needs_background": "light"
     },
     "output_type": "display_data"
    }
   ],
   "source": [
    "plt.hist(adult.education)\n",
    "plt.show()"
   ]
  },
  {
   "cell_type": "code",
   "execution_count": 606,
   "metadata": {},
   "outputs": [
    {
     "data": {
      "image/png": "[encoded data removed]",
      "text/plain": [
       "<Figure size 432x288 with 1 Axes>"
      ]
     },
     "metadata": {
      "needs_background": "light"
     },
     "output_type": "display_data"
    }
   ],
   "source": [
    "plt.hist(adult[\"hours-per-week\"])\n",
    "plt.show()"
   ]
  },
  {
   "cell_type": "code",
   "execution_count": 607,
   "metadata": {},
   "outputs": [
    {
     "data": {
      "image/png": "[encoded data removed]",
      "text/plain": [
       "<Figure size 432x288 with 1 Axes>"
      ]
     },
     "metadata": {
      "needs_background": "light"
     },
     "output_type": "display_data"
    }
   ],
   "source": [
    "adult[\"workclass\"].value_counts().plot(kind='bar')\n",
    "plt.show()"
   ]
  },
  {
   "cell_type": "code",
   "execution_count": 608,
   "metadata": {},
   "outputs": [
    {
     "data": {
      "image/png": "[encoded data removed]",
      "text/plain": [
       "<Figure size 432x288 with 1 Axes>"
      ]
     },
     "metadata": {
      "needs_background": "light"
     },
     "output_type": "display_data"
    }
   ],
   "source": [
    "adult[\"marital-status\"].value_counts().plot(kind='bar')\n",
    "plt.show()"
   ]
  },
  {
   "cell_type": "code",
   "execution_count": 609,
   "metadata": {},
   "outputs": [
    {
     "data": {
      "image/png": "[encoded data removed]",
      "text/plain": [
       "<Figure size 432x288 with 1 Axes>"
      ]
     },
     "metadata": {
      "needs_background": "light"
     },
     "output_type": "display_data"
    }
   ],
   "source": [
    "adult[\"race\"].value_counts().plot(kind='bar')\n",
    "plt.show()"
   ]
  },
  {
   "cell_type": "code",
   "execution_count": 610,
   "metadata": {},
   "outputs": [
    {
     "data": {
      "image/png": "[encoded data removed]",
      "text/plain": [
       "<Figure size 432x288 with 1 Axes>"
      ]
     },
     "metadata": {
      "needs_background": "light"
     },
     "output_type": "display_data"
    }
   ],
   "source": [
    "adult[\"sex\"].value_counts().plot(kind='bar')\n",
    "plt.show()"
   ]
  },
  {
   "cell_type": "code",
   "execution_count": 611,
   "metadata": {},
   "outputs": [
    {
     "data": {
      "image/png": "[encoded data removed]",
      "text/plain": [
       "<Figure size 432x288 with 1 Axes>"
      ]
     },
     "metadata": {
      "needs_background": "light"
     },
     "output_type": "display_data"
    }
   ],
   "source": [
    "adult[\"income\"].value_counts().plot(kind='bar')\n",
    "plt.show()"
   ]
  },
  {
   "cell_type": "markdown",
   "metadata": {},
   "source": [
    "#### 3. Perform the following cross-tabulations (including generating bar charts): education+race, work-class+income, work-class+race, and race+income. In the latter case (race+income) also create a table or chart showing percentages of each race category that fall in the low-income group. Discuss your observations from this analysis."
   ]
  },
  {
   "cell_type": "code",
   "execution_count": 612,
   "metadata": {},
   "outputs": [
    {
     "data": {
      "image/png": "[encoded data removed]",
      "text/plain": [
       "<Figure size 432x288 with 1 Axes>"
      ]
     },
     "metadata": {
      "needs_background": "light"
     },
     "output_type": "display_data"
    }
   ],
   "source": [
    "eXr = pd.crosstab(adult[\"education\"], adult[\"race\"])\n",
    "plt.show(eXr.plot(kind=\"bar\"))"
   ]
  },
  {
   "cell_type": "code",
   "execution_count": 613,
   "metadata": {},
   "outputs": [
    {
     "data": {
      "image/png": "[encoded data removed]",
      "text/plain": [
       "<Figure size 432x288 with 1 Axes>"
      ]
     },
     "metadata": {
      "needs_background": "light"
     },
     "output_type": "display_data"
    }
   ],
   "source": [
    "wXi = pd.crosstab(adult[\"workclass\"], adult[\"income\"])\n",
    "plt.show(wXi.plot(kind=\"bar\"))"
   ]
  },
  {
   "cell_type": "code",
   "execution_count": 366,
   "metadata": {},
   "outputs": [
    {
     "data": {
      "image/png": "[encoded data removed]",
      "text/plain": [
       "<Figure size 432x288 with 1 Axes>"
      ]
     },
     "metadata": {
      "needs_background": "light"
     },
     "output_type": "display_data"
    }
   ],
   "source": [
    "wXr = pd.crosstab(adult[\"workclass\"], adult[\"race\"])\n",
    "plt.show(wXr.plot(kind=\"bar\"))"
   ]
  },
  {
   "cell_type": "code",
   "execution_count": 614,
   "metadata": {},
   "outputs": [
    {
     "data": {
      "image/png": "[encoded data removed]",
      "text/plain": [
       "<Figure size 432x288 with 1 Axes>"
      ]
     },
     "metadata": {
      "needs_background": "light"
     },
     "output_type": "display_data"
    }
   ],
   "source": [
    "rXi = pd.crosstab(adult[\"race\"], adult[\"income\"])\n",
    "plt.show(rXi.plot(kind=\"bar\"))"
   ]
  },
  {
   "cell_type": "code",
   "execution_count": 615,
   "metadata": {},
   "outputs": [
    {
     "data": {
      "text/html": [
       "<div>\n",
       "<style scoped>\n",
       "    .dataframe tbody tr th:only-of-type {\n",
       "        vertical-align: middle;\n",
       "    }\n",
       "\n",
       "    .dataframe tbody tr th {\n",
       "        vertical-align: top;\n",
       "    }\n",
       "\n",
       "    .dataframe thead th {\n",
       "        text-align: right;\n",
       "    }\n",
       "</style>\n",
       "<table border=\"1\" class=\"dataframe\">\n",
       "  <thead>\n",
       "    <tr style=\"text-align: right;\">\n",
       "      <th>income</th>\n",
       "      <th>&lt;=50K</th>\n",
       "      <th>&gt;50K</th>\n",
       "      <th>percent_in_low_income</th>\n",
       "    </tr>\n",
       "    <tr>\n",
       "      <th>race</th>\n",
       "      <th></th>\n",
       "      <th></th>\n",
       "      <th></th>\n",
       "    </tr>\n",
       "  </thead>\n",
       "  <tbody>\n",
       "    <tr>\n",
       "      <td>Hispanic</td>\n",
       "      <td>69</td>\n",
       "      <td>6</td>\n",
       "      <td>0.920000</td>\n",
       "    </tr>\n",
       "    <tr>\n",
       "      <td>Amer-Indian</td>\n",
       "      <td>83</td>\n",
       "      <td>9</td>\n",
       "      <td>0.902174</td>\n",
       "    </tr>\n",
       "    <tr>\n",
       "      <td>Black</td>\n",
       "      <td>773</td>\n",
       "      <td>119</td>\n",
       "      <td>0.866592</td>\n",
       "    </tr>\n",
       "    <tr>\n",
       "      <td>Asian</td>\n",
       "      <td>224</td>\n",
       "      <td>67</td>\n",
       "      <td>0.769759</td>\n",
       "    </tr>\n",
       "    <tr>\n",
       "      <td>White</td>\n",
       "      <td>5944</td>\n",
       "      <td>2118</td>\n",
       "      <td>0.737286</td>\n",
       "    </tr>\n",
       "  </tbody>\n",
       "</table>\n",
       "</div>"
      ],
      "text/plain": [
       "income       <=50K  >50K  percent_in_low_income\n",
       "race                                           \n",
       "Hispanic        69     6               0.920000\n",
       "Amer-Indian     83     9               0.902174\n",
       "Black          773   119               0.866592\n",
       "Asian          224    67               0.769759\n",
       "White         5944  2118               0.737286"
      ]
     },
     "execution_count": 615,
     "metadata": {},
     "output_type": "execute_result"
    }
   ],
   "source": [
    "rXi[\"percent_in_low_income\"] = rXi[\"<=50K\"]/(rXi[\"<=50K\"]+rXi[\">50K\"])\n",
    "rXi.sort_values(\"percent_in_low_income\", ascending=False)"
   ]
  },
  {
   "cell_type": "markdown",
   "metadata": {},
   "source": [
    "### Observations:\n",
    "### In education vs race barplot, white people have most raw counts in every year of education and this is due to the demographic fact that white is the largest racial group in the US. In income vs workclass plot, low-income population is larger than high-income population for every work class and the difference is most obvious in the private workclass. In the race vs workclass plot, there are more white people in every workclass with the most differnce exist in private workclass. In income vs race plot, there are more low-income population than high-income population for all races. In the last table, Hispanic and Amer-Indian have the high percentages of population in low income, followed by Black, Asian and White correspondingly."
   ]
  },
  {
   "cell_type": "markdown",
   "metadata": {},
   "source": [
    "#### 4. Compare and contrast the characteristics of the low-income and high-income categories across the different attributes."
   ]
  },
  {
   "cell_type": "code",
   "execution_count": 616,
   "metadata": {},
   "outputs": [],
   "source": [
    "low_income = adult[adult.income == \"<=50K\"]\n",
    "high_income = adult[adult.income == \">50K\"]"
   ]
  },
  {
   "cell_type": "markdown",
   "metadata": {},
   "source": [
    "Low-income attribute info:"
   ]
  },
  {
   "cell_type": "code",
   "execution_count": 617,
   "metadata": {},
   "outputs": [
    {
     "data": {
      "text/html": [
       "<div>\n",
       "<style scoped>\n",
       "    .dataframe tbody tr th:only-of-type {\n",
       "        vertical-align: middle;\n",
       "    }\n",
       "\n",
       "    .dataframe tbody tr th {\n",
       "        vertical-align: top;\n",
       "    }\n",
       "\n",
       "    .dataframe thead th {\n",
       "        text-align: right;\n",
       "    }\n",
       "</style>\n",
       "<table border=\"1\" class=\"dataframe\">\n",
       "  <thead>\n",
       "    <tr style=\"text-align: right;\">\n",
       "      <th></th>\n",
       "      <th>age</th>\n",
       "      <th>workclass</th>\n",
       "      <th>education</th>\n",
       "      <th>marital-status</th>\n",
       "      <th>race</th>\n",
       "      <th>sex</th>\n",
       "      <th>hours-per-week</th>\n",
       "      <th>income</th>\n",
       "    </tr>\n",
       "  </thead>\n",
       "  <tbody>\n",
       "    <tr>\n",
       "      <td>count</td>\n",
       "      <td>7093.000000</td>\n",
       "      <td>7093</td>\n",
       "      <td>7093.000000</td>\n",
       "      <td>7093</td>\n",
       "      <td>7093</td>\n",
       "      <td>7093</td>\n",
       "      <td>7093.000000</td>\n",
       "      <td>7093</td>\n",
       "    </tr>\n",
       "    <tr>\n",
       "      <td>unique</td>\n",
       "      <td>NaN</td>\n",
       "      <td>3</td>\n",
       "      <td>NaN</td>\n",
       "      <td>2</td>\n",
       "      <td>5</td>\n",
       "      <td>2</td>\n",
       "      <td>NaN</td>\n",
       "      <td>1</td>\n",
       "    </tr>\n",
       "    <tr>\n",
       "      <td>top</td>\n",
       "      <td>NaN</td>\n",
       "      <td>Private</td>\n",
       "      <td>NaN</td>\n",
       "      <td>Single</td>\n",
       "      <td>White</td>\n",
       "      <td>Male</td>\n",
       "      <td>NaN</td>\n",
       "      <td>&lt;=50K</td>\n",
       "    </tr>\n",
       "    <tr>\n",
       "      <td>freq</td>\n",
       "      <td>NaN</td>\n",
       "      <td>5443</td>\n",
       "      <td>NaN</td>\n",
       "      <td>4363</td>\n",
       "      <td>5944</td>\n",
       "      <td>4424</td>\n",
       "      <td>NaN</td>\n",
       "      <td>7093</td>\n",
       "    </tr>\n",
       "    <tr>\n",
       "      <td>mean</td>\n",
       "      <td>36.644604</td>\n",
       "      <td>NaN</td>\n",
       "      <td>9.646976</td>\n",
       "      <td>NaN</td>\n",
       "      <td>NaN</td>\n",
       "      <td>NaN</td>\n",
       "      <td>39.567038</td>\n",
       "      <td>NaN</td>\n",
       "    </tr>\n",
       "    <tr>\n",
       "      <td>std</td>\n",
       "      <td>13.340142</td>\n",
       "      <td>NaN</td>\n",
       "      <td>2.397358</td>\n",
       "      <td>NaN</td>\n",
       "      <td>NaN</td>\n",
       "      <td>NaN</td>\n",
       "      <td>11.868506</td>\n",
       "      <td>NaN</td>\n",
       "    </tr>\n",
       "    <tr>\n",
       "      <td>min</td>\n",
       "      <td>17.000000</td>\n",
       "      <td>NaN</td>\n",
       "      <td>1.000000</td>\n",
       "      <td>NaN</td>\n",
       "      <td>NaN</td>\n",
       "      <td>NaN</td>\n",
       "      <td>1.000000</td>\n",
       "      <td>NaN</td>\n",
       "    </tr>\n",
       "    <tr>\n",
       "      <td>25%</td>\n",
       "      <td>26.000000</td>\n",
       "      <td>NaN</td>\n",
       "      <td>9.000000</td>\n",
       "      <td>NaN</td>\n",
       "      <td>NaN</td>\n",
       "      <td>NaN</td>\n",
       "      <td>38.000000</td>\n",
       "      <td>NaN</td>\n",
       "    </tr>\n",
       "    <tr>\n",
       "      <td>50%</td>\n",
       "      <td>35.000000</td>\n",
       "      <td>NaN</td>\n",
       "      <td>9.000000</td>\n",
       "      <td>NaN</td>\n",
       "      <td>NaN</td>\n",
       "      <td>NaN</td>\n",
       "      <td>40.000000</td>\n",
       "      <td>NaN</td>\n",
       "    </tr>\n",
       "    <tr>\n",
       "      <td>75%</td>\n",
       "      <td>45.000000</td>\n",
       "      <td>NaN</td>\n",
       "      <td>10.000000</td>\n",
       "      <td>NaN</td>\n",
       "      <td>NaN</td>\n",
       "      <td>NaN</td>\n",
       "      <td>40.000000</td>\n",
       "      <td>NaN</td>\n",
       "    </tr>\n",
       "    <tr>\n",
       "      <td>max</td>\n",
       "      <td>90.000000</td>\n",
       "      <td>NaN</td>\n",
       "      <td>16.000000</td>\n",
       "      <td>NaN</td>\n",
       "      <td>NaN</td>\n",
       "      <td>NaN</td>\n",
       "      <td>99.000000</td>\n",
       "      <td>NaN</td>\n",
       "    </tr>\n",
       "  </tbody>\n",
       "</table>\n",
       "</div>"
      ],
      "text/plain": [
       "                age workclass    education marital-status   race   sex  \\\n",
       "count   7093.000000      7093  7093.000000           7093   7093  7093   \n",
       "unique          NaN         3          NaN              2      5     2   \n",
       "top             NaN   Private          NaN         Single  White  Male   \n",
       "freq            NaN      5443          NaN           4363   5944  4424   \n",
       "mean      36.644604       NaN     9.646976            NaN    NaN   NaN   \n",
       "std       13.340142       NaN     2.397358            NaN    NaN   NaN   \n",
       "min       17.000000       NaN     1.000000            NaN    NaN   NaN   \n",
       "25%       26.000000       NaN     9.000000            NaN    NaN   NaN   \n",
       "50%       35.000000       NaN     9.000000            NaN    NaN   NaN   \n",
       "75%       45.000000       NaN    10.000000            NaN    NaN   NaN   \n",
       "max       90.000000       NaN    16.000000            NaN    NaN   NaN   \n",
       "\n",
       "        hours-per-week income  \n",
       "count      7093.000000   7093  \n",
       "unique             NaN      1  \n",
       "top                NaN  <=50K  \n",
       "freq               NaN   7093  \n",
       "mean         39.567038    NaN  \n",
       "std          11.868506    NaN  \n",
       "min           1.000000    NaN  \n",
       "25%          38.000000    NaN  \n",
       "50%          40.000000    NaN  \n",
       "75%          40.000000    NaN  \n",
       "max          99.000000    NaN  "
      ]
     },
     "execution_count": 617,
     "metadata": {},
     "output_type": "execute_result"
    }
   ],
   "source": [
    "low_income.describe(include=\"all\")"
   ]
  },
  {
   "cell_type": "markdown",
   "metadata": {},
   "source": [
    "High-income attributes info:"
   ]
  },
  {
   "cell_type": "code",
   "execution_count": 618,
   "metadata": {},
   "outputs": [
    {
     "data": {
      "text/html": [
       "<div>\n",
       "<style scoped>\n",
       "    .dataframe tbody tr th:only-of-type {\n",
       "        vertical-align: middle;\n",
       "    }\n",
       "\n",
       "    .dataframe tbody tr th {\n",
       "        vertical-align: top;\n",
       "    }\n",
       "\n",
       "    .dataframe thead th {\n",
       "        text-align: right;\n",
       "    }\n",
       "</style>\n",
       "<table border=\"1\" class=\"dataframe\">\n",
       "  <thead>\n",
       "    <tr style=\"text-align: right;\">\n",
       "      <th></th>\n",
       "      <th>age</th>\n",
       "      <th>workclass</th>\n",
       "      <th>education</th>\n",
       "      <th>marital-status</th>\n",
       "      <th>race</th>\n",
       "      <th>sex</th>\n",
       "      <th>hours-per-week</th>\n",
       "      <th>income</th>\n",
       "    </tr>\n",
       "  </thead>\n",
       "  <tbody>\n",
       "    <tr>\n",
       "      <td>count</td>\n",
       "      <td>2319.000000</td>\n",
       "      <td>2319</td>\n",
       "      <td>2319.000000</td>\n",
       "      <td>2319</td>\n",
       "      <td>2319</td>\n",
       "      <td>2319</td>\n",
       "      <td>2319.000000</td>\n",
       "      <td>2319</td>\n",
       "    </tr>\n",
       "    <tr>\n",
       "      <td>unique</td>\n",
       "      <td>NaN</td>\n",
       "      <td>3</td>\n",
       "      <td>NaN</td>\n",
       "      <td>2</td>\n",
       "      <td>5</td>\n",
       "      <td>2</td>\n",
       "      <td>NaN</td>\n",
       "      <td>1</td>\n",
       "    </tr>\n",
       "    <tr>\n",
       "      <td>top</td>\n",
       "      <td>NaN</td>\n",
       "      <td>Private</td>\n",
       "      <td>NaN</td>\n",
       "      <td>Married</td>\n",
       "      <td>White</td>\n",
       "      <td>Male</td>\n",
       "      <td>NaN</td>\n",
       "      <td>&gt;50K</td>\n",
       "    </tr>\n",
       "    <tr>\n",
       "      <td>freq</td>\n",
       "      <td>NaN</td>\n",
       "      <td>1504</td>\n",
       "      <td>NaN</td>\n",
       "      <td>2007</td>\n",
       "      <td>2118</td>\n",
       "      <td>1959</td>\n",
       "      <td>NaN</td>\n",
       "      <td>2319</td>\n",
       "    </tr>\n",
       "    <tr>\n",
       "      <td>mean</td>\n",
       "      <td>43.632531</td>\n",
       "      <td>NaN</td>\n",
       "      <td>11.588185</td>\n",
       "      <td>NaN</td>\n",
       "      <td>NaN</td>\n",
       "      <td>NaN</td>\n",
       "      <td>45.708495</td>\n",
       "      <td>NaN</td>\n",
       "    </tr>\n",
       "    <tr>\n",
       "      <td>std</td>\n",
       "      <td>10.042135</td>\n",
       "      <td>NaN</td>\n",
       "      <td>2.410764</td>\n",
       "      <td>NaN</td>\n",
       "      <td>NaN</td>\n",
       "      <td>NaN</td>\n",
       "      <td>10.678794</td>\n",
       "      <td>NaN</td>\n",
       "    </tr>\n",
       "    <tr>\n",
       "      <td>min</td>\n",
       "      <td>19.000000</td>\n",
       "      <td>NaN</td>\n",
       "      <td>2.000000</td>\n",
       "      <td>NaN</td>\n",
       "      <td>NaN</td>\n",
       "      <td>NaN</td>\n",
       "      <td>1.000000</td>\n",
       "      <td>NaN</td>\n",
       "    </tr>\n",
       "    <tr>\n",
       "      <td>25%</td>\n",
       "      <td>36.000000</td>\n",
       "      <td>NaN</td>\n",
       "      <td>9.000000</td>\n",
       "      <td>NaN</td>\n",
       "      <td>NaN</td>\n",
       "      <td>NaN</td>\n",
       "      <td>40.000000</td>\n",
       "      <td>NaN</td>\n",
       "    </tr>\n",
       "    <tr>\n",
       "      <td>50%</td>\n",
       "      <td>43.000000</td>\n",
       "      <td>NaN</td>\n",
       "      <td>12.000000</td>\n",
       "      <td>NaN</td>\n",
       "      <td>NaN</td>\n",
       "      <td>NaN</td>\n",
       "      <td>40.000000</td>\n",
       "      <td>NaN</td>\n",
       "    </tr>\n",
       "    <tr>\n",
       "      <td>75%</td>\n",
       "      <td>50.000000</td>\n",
       "      <td>NaN</td>\n",
       "      <td>13.000000</td>\n",
       "      <td>NaN</td>\n",
       "      <td>NaN</td>\n",
       "      <td>NaN</td>\n",
       "      <td>50.000000</td>\n",
       "      <td>NaN</td>\n",
       "    </tr>\n",
       "    <tr>\n",
       "      <td>max</td>\n",
       "      <td>90.000000</td>\n",
       "      <td>NaN</td>\n",
       "      <td>16.000000</td>\n",
       "      <td>NaN</td>\n",
       "      <td>NaN</td>\n",
       "      <td>NaN</td>\n",
       "      <td>99.000000</td>\n",
       "      <td>NaN</td>\n",
       "    </tr>\n",
       "  </tbody>\n",
       "</table>\n",
       "</div>"
      ],
      "text/plain": [
       "                age workclass    education marital-status   race   sex  \\\n",
       "count   2319.000000      2319  2319.000000           2319   2319  2319   \n",
       "unique          NaN         3          NaN              2      5     2   \n",
       "top             NaN   Private          NaN        Married  White  Male   \n",
       "freq            NaN      1504          NaN           2007   2118  1959   \n",
       "mean      43.632531       NaN    11.588185            NaN    NaN   NaN   \n",
       "std       10.042135       NaN     2.410764            NaN    NaN   NaN   \n",
       "min       19.000000       NaN     2.000000            NaN    NaN   NaN   \n",
       "25%       36.000000       NaN     9.000000            NaN    NaN   NaN   \n",
       "50%       43.000000       NaN    12.000000            NaN    NaN   NaN   \n",
       "75%       50.000000       NaN    13.000000            NaN    NaN   NaN   \n",
       "max       90.000000       NaN    16.000000            NaN    NaN   NaN   \n",
       "\n",
       "        hours-per-week income  \n",
       "count      2319.000000   2319  \n",
       "unique             NaN      1  \n",
       "top                NaN   >50K  \n",
       "freq               NaN   2319  \n",
       "mean         45.708495    NaN  \n",
       "std          10.678794    NaN  \n",
       "min           1.000000    NaN  \n",
       "25%          40.000000    NaN  \n",
       "50%          40.000000    NaN  \n",
       "75%          50.000000    NaN  \n",
       "max          99.000000    NaN  "
      ]
     },
     "execution_count": 618,
     "metadata": {},
     "output_type": "execute_result"
    }
   ],
   "source": [
    "high_income.describe(include=\"all\")"
   ]
  },
  {
   "cell_type": "markdown",
   "metadata": {},
   "source": [
    "### Comparison:\n",
    "### The mean age in high-income population is about 10 years more than the age of low-income. Mean education of high-income is higher than mean education of low-income by about 2 units. High-income population has higher percentage of Married status while low-income has higher percentage of Single. High-income's hours-per-week is 6 hours higher than the low-income."
   ]
  },
  {
   "cell_type": "markdown",
   "metadata": {},
   "source": [
    "#### b)\n",
    "#### 1. Using either Pandas or Scikit-learn, create dummy variables for the categorical attributes. Then separate the target attribute (\"income_>50K\") from the attributes used for training. [Note: you need to drop \"income_<=50K\" which is also created as a dummy variable in earlier steps). Split the data into training and test sets (80%-20% split)."
   ]
  },
  {
   "cell_type": "code",
   "execution_count": 619,
   "metadata": {},
   "outputs": [],
   "source": [
    "adult = pd.get_dummies(adult)"
   ]
  },
  {
   "cell_type": "code",
   "execution_count": 620,
   "metadata": {},
   "outputs": [],
   "source": [
    "adult_lab = adult[\"income_>50K\"]"
   ]
  },
  {
   "cell_type": "code",
   "execution_count": 621,
   "metadata": {},
   "outputs": [
    {
     "data": {
      "text/html": [
       "<div>\n",
       "<style scoped>\n",
       "    .dataframe tbody tr th:only-of-type {\n",
       "        vertical-align: middle;\n",
       "    }\n",
       "\n",
       "    .dataframe tbody tr th {\n",
       "        vertical-align: top;\n",
       "    }\n",
       "\n",
       "    .dataframe thead th {\n",
       "        text-align: right;\n",
       "    }\n",
       "</style>\n",
       "<table border=\"1\" class=\"dataframe\">\n",
       "  <thead>\n",
       "    <tr style=\"text-align: right;\">\n",
       "      <th></th>\n",
       "      <th>age</th>\n",
       "      <th>education</th>\n",
       "      <th>hours-per-week</th>\n",
       "      <th>workclass_Private</th>\n",
       "      <th>workclass_Public</th>\n",
       "      <th>workclass_Self-emp</th>\n",
       "      <th>marital-status_Married</th>\n",
       "      <th>marital-status_Single</th>\n",
       "      <th>race_Amer-Indian</th>\n",
       "      <th>race_Asian</th>\n",
       "      <th>race_Black</th>\n",
       "      <th>race_Hispanic</th>\n",
       "      <th>race_White</th>\n",
       "      <th>sex_Female</th>\n",
       "      <th>sex_Male</th>\n",
       "    </tr>\n",
       "  </thead>\n",
       "  <tbody>\n",
       "    <tr>\n",
       "      <td>0</td>\n",
       "      <td>39.000000</td>\n",
       "      <td>13</td>\n",
       "      <td>40</td>\n",
       "      <td>0</td>\n",
       "      <td>1</td>\n",
       "      <td>0</td>\n",
       "      <td>0</td>\n",
       "      <td>1</td>\n",
       "      <td>0</td>\n",
       "      <td>0</td>\n",
       "      <td>0</td>\n",
       "      <td>0</td>\n",
       "      <td>1</td>\n",
       "      <td>0</td>\n",
       "      <td>1</td>\n",
       "    </tr>\n",
       "    <tr>\n",
       "      <td>1</td>\n",
       "      <td>50.000000</td>\n",
       "      <td>13</td>\n",
       "      <td>13</td>\n",
       "      <td>0</td>\n",
       "      <td>0</td>\n",
       "      <td>1</td>\n",
       "      <td>1</td>\n",
       "      <td>0</td>\n",
       "      <td>0</td>\n",
       "      <td>0</td>\n",
       "      <td>0</td>\n",
       "      <td>0</td>\n",
       "      <td>1</td>\n",
       "      <td>0</td>\n",
       "      <td>1</td>\n",
       "    </tr>\n",
       "    <tr>\n",
       "      <td>2</td>\n",
       "      <td>38.000000</td>\n",
       "      <td>9</td>\n",
       "      <td>40</td>\n",
       "      <td>1</td>\n",
       "      <td>0</td>\n",
       "      <td>0</td>\n",
       "      <td>0</td>\n",
       "      <td>1</td>\n",
       "      <td>0</td>\n",
       "      <td>0</td>\n",
       "      <td>0</td>\n",
       "      <td>0</td>\n",
       "      <td>1</td>\n",
       "      <td>0</td>\n",
       "      <td>1</td>\n",
       "    </tr>\n",
       "    <tr>\n",
       "      <td>3</td>\n",
       "      <td>53.000000</td>\n",
       "      <td>7</td>\n",
       "      <td>40</td>\n",
       "      <td>1</td>\n",
       "      <td>0</td>\n",
       "      <td>0</td>\n",
       "      <td>1</td>\n",
       "      <td>0</td>\n",
       "      <td>0</td>\n",
       "      <td>0</td>\n",
       "      <td>1</td>\n",
       "      <td>0</td>\n",
       "      <td>0</td>\n",
       "      <td>0</td>\n",
       "      <td>1</td>\n",
       "    </tr>\n",
       "    <tr>\n",
       "      <td>4</td>\n",
       "      <td>28.000000</td>\n",
       "      <td>13</td>\n",
       "      <td>40</td>\n",
       "      <td>1</td>\n",
       "      <td>0</td>\n",
       "      <td>0</td>\n",
       "      <td>1</td>\n",
       "      <td>0</td>\n",
       "      <td>0</td>\n",
       "      <td>0</td>\n",
       "      <td>1</td>\n",
       "      <td>0</td>\n",
       "      <td>0</td>\n",
       "      <td>1</td>\n",
       "      <td>0</td>\n",
       "    </tr>\n",
       "    <tr>\n",
       "      <td>...</td>\n",
       "      <td>...</td>\n",
       "      <td>...</td>\n",
       "      <td>...</td>\n",
       "      <td>...</td>\n",
       "      <td>...</td>\n",
       "      <td>...</td>\n",
       "      <td>...</td>\n",
       "      <td>...</td>\n",
       "      <td>...</td>\n",
       "      <td>...</td>\n",
       "      <td>...</td>\n",
       "      <td>...</td>\n",
       "      <td>...</td>\n",
       "      <td>...</td>\n",
       "      <td>...</td>\n",
       "    </tr>\n",
       "    <tr>\n",
       "      <td>9407</td>\n",
       "      <td>38.000000</td>\n",
       "      <td>10</td>\n",
       "      <td>60</td>\n",
       "      <td>1</td>\n",
       "      <td>0</td>\n",
       "      <td>0</td>\n",
       "      <td>1</td>\n",
       "      <td>0</td>\n",
       "      <td>0</td>\n",
       "      <td>0</td>\n",
       "      <td>0</td>\n",
       "      <td>0</td>\n",
       "      <td>1</td>\n",
       "      <td>0</td>\n",
       "      <td>1</td>\n",
       "    </tr>\n",
       "    <tr>\n",
       "      <td>9408</td>\n",
       "      <td>25.000000</td>\n",
       "      <td>9</td>\n",
       "      <td>8</td>\n",
       "      <td>1</td>\n",
       "      <td>0</td>\n",
       "      <td>0</td>\n",
       "      <td>0</td>\n",
       "      <td>1</td>\n",
       "      <td>0</td>\n",
       "      <td>0</td>\n",
       "      <td>0</td>\n",
       "      <td>0</td>\n",
       "      <td>1</td>\n",
       "      <td>1</td>\n",
       "      <td>0</td>\n",
       "    </tr>\n",
       "    <tr>\n",
       "      <td>9409</td>\n",
       "      <td>21.000000</td>\n",
       "      <td>10</td>\n",
       "      <td>40</td>\n",
       "      <td>1</td>\n",
       "      <td>0</td>\n",
       "      <td>0</td>\n",
       "      <td>0</td>\n",
       "      <td>1</td>\n",
       "      <td>0</td>\n",
       "      <td>0</td>\n",
       "      <td>1</td>\n",
       "      <td>0</td>\n",
       "      <td>0</td>\n",
       "      <td>0</td>\n",
       "      <td>1</td>\n",
       "    </tr>\n",
       "    <tr>\n",
       "      <td>9410</td>\n",
       "      <td>38.449806</td>\n",
       "      <td>2</td>\n",
       "      <td>53</td>\n",
       "      <td>1</td>\n",
       "      <td>0</td>\n",
       "      <td>0</td>\n",
       "      <td>1</td>\n",
       "      <td>0</td>\n",
       "      <td>0</td>\n",
       "      <td>0</td>\n",
       "      <td>0</td>\n",
       "      <td>0</td>\n",
       "      <td>1</td>\n",
       "      <td>0</td>\n",
       "      <td>1</td>\n",
       "    </tr>\n",
       "    <tr>\n",
       "      <td>9411</td>\n",
       "      <td>39.000000</td>\n",
       "      <td>10</td>\n",
       "      <td>40</td>\n",
       "      <td>1</td>\n",
       "      <td>0</td>\n",
       "      <td>0</td>\n",
       "      <td>0</td>\n",
       "      <td>1</td>\n",
       "      <td>0</td>\n",
       "      <td>0</td>\n",
       "      <td>0</td>\n",
       "      <td>0</td>\n",
       "      <td>1</td>\n",
       "      <td>1</td>\n",
       "      <td>0</td>\n",
       "    </tr>\n",
       "  </tbody>\n",
       "</table>\n",
       "<p>9412 rows × 15 columns</p>\n",
       "</div>"
      ],
      "text/plain": [
       "            age  education  hours-per-week  workclass_Private  \\\n",
       "0     39.000000         13              40                  0   \n",
       "1     50.000000         13              13                  0   \n",
       "2     38.000000          9              40                  1   \n",
       "3     53.000000          7              40                  1   \n",
       "4     28.000000         13              40                  1   \n",
       "...         ...        ...             ...                ...   \n",
       "9407  38.000000         10              60                  1   \n",
       "9408  25.000000          9               8                  1   \n",
       "9409  21.000000         10              40                  1   \n",
       "9410  38.449806          2              53                  1   \n",
       "9411  39.000000         10              40                  1   \n",
       "\n",
       "      workclass_Public  workclass_Self-emp  marital-status_Married  \\\n",
       "0                    1                   0                       0   \n",
       "1                    0                   1                       1   \n",
       "2                    0                   0                       0   \n",
       "3                    0                   0                       1   \n",
       "4                    0                   0                       1   \n",
       "...                ...                 ...                     ...   \n",
       "9407                 0                   0                       1   \n",
       "9408                 0                   0                       0   \n",
       "9409                 0                   0                       0   \n",
       "9410                 0                   0                       1   \n",
       "9411                 0                   0                       0   \n",
       "\n",
       "      marital-status_Single  race_Amer-Indian  race_Asian  race_Black  \\\n",
       "0                         1                 0           0           0   \n",
       "1                         0                 0           0           0   \n",
       "2                         1                 0           0           0   \n",
       "3                         0                 0           0           1   \n",
       "4                         0                 0           0           1   \n",
       "...                     ...               ...         ...         ...   \n",
       "9407                      0                 0           0           0   \n",
       "9408                      1                 0           0           0   \n",
       "9409                      1                 0           0           1   \n",
       "9410                      0                 0           0           0   \n",
       "9411                      1                 0           0           0   \n",
       "\n",
       "      race_Hispanic  race_White  sex_Female  sex_Male  \n",
       "0                 0           1           0         1  \n",
       "1                 0           1           0         1  \n",
       "2                 0           1           0         1  \n",
       "3                 0           0           0         1  \n",
       "4                 0           0           1         0  \n",
       "...             ...         ...         ...       ...  \n",
       "9407              0           1           0         1  \n",
       "9408              0           1           1         0  \n",
       "9409              0           0           0         1  \n",
       "9410              0           1           0         1  \n",
       "9411              0           1           1         0  \n",
       "\n",
       "[9412 rows x 15 columns]"
      ]
     },
     "execution_count": 621,
     "metadata": {},
     "output_type": "execute_result"
    }
   ],
   "source": [
    "adult_dat = adult.drop(columns=[\"income_>50K\", \"income_<=50K\"])\n",
    "adult_dat"
   ]
  },
  {
   "cell_type": "markdown",
   "metadata": {},
   "source": [
    "#### 2. Use scikit-learn to build classifiers usinng Naive Bayes (Gaussian), decision tree (using \"gini\" as selection criteria), and linear discriminant analysis (LDA).  For each of these perform 10-fold cross-validation on the training data (using cross-validation module in scikit-learn) and report the overall average accuracy. Compare this to the model accuracy on the training data. Finally, run your model on the set-aside test data."
   ]
  },
  {
   "cell_type": "code",
   "execution_count": 622,
   "metadata": {},
   "outputs": [],
   "source": [
    "adult_train, adult_test, adult_train_lab, adult_test_lab = train_test_split(adult_dat,\n",
    "                                                                         adult_lab, test_size=0.2, random_state=33)"
   ]
  },
  {
   "cell_type": "markdown",
   "metadata": {},
   "source": [
    "#### Gaussian Naive Bayes model:"
   ]
  },
  {
   "cell_type": "code",
   "execution_count": 623,
   "metadata": {},
   "outputs": [],
   "source": [
    "from sklearn import naive_bayes\n",
    "nbclf = naive_bayes.GaussianNB()\n",
    "nbclf = nbclf.fit(adult_train, adult_train_lab)"
   ]
  },
  {
   "cell_type": "code",
   "execution_count": 624,
   "metadata": {},
   "outputs": [
    {
     "name": "stdout",
     "output_type": "stream",
     "text": [
      "[0.72823779 0.70488323 0.73142251 0.70456961 0.73326249 0.70669501\n",
      " 0.7120085  0.7183847  0.73113709 0.70744681]\n"
     ]
    }
   ],
   "source": [
    "from sklearn.model_selection import cross_val_score\n",
    "cv_scores1 = cross_val_score(nbclf, adult_dat, adult_lab, cv=10)\n",
    "print(cv_scores1)"
   ]
  },
  {
   "cell_type": "code",
   "execution_count": 625,
   "metadata": {},
   "outputs": [
    {
     "name": "stdout",
     "output_type": "stream",
     "text": [
      "Naive Bayes Overall Accuracy: 0.72 (+/- 0.02)\n",
      "\n",
      "Accuracy on training data: 0.720547217425953\n",
      "\n",
      "Accuracy on test data for: 0.7190653212958046\n"
     ]
    }
   ],
   "source": [
    "print(\"Naive Bayes Overall Accuracy: %0.2f (+/- %0.2f)\" % (cv_scores1.mean(), cv_scores1.std() * 2))\n",
    "print()\n",
    "print(\"Accuracy on training data: {}\".format(nbclf.score(adult_train, adult_train_lab)))\n",
    "print()\n",
    "print(\"Accuracy on test data for: {}\".format(nbclf.score(adult_test, adult_test_lab)))"
   ]
  },
  {
   "cell_type": "markdown",
   "metadata": {},
   "source": [
    "#### Decision Tree model:"
   ]
  },
  {
   "cell_type": "code",
   "execution_count": 626,
   "metadata": {},
   "outputs": [],
   "source": [
    "treeclf_adult = tree.DecisionTreeClassifier(criterion=\"gini\")\n",
    "treeclf_adult = treeclf_adult.fit(adult_train, adult_train_lab)"
   ]
  },
  {
   "cell_type": "code",
   "execution_count": 627,
   "metadata": {},
   "outputs": [
    {
     "name": "stdout",
     "output_type": "stream",
     "text": [
      "[0.75159236 0.77176221 0.77282378 0.77364506 0.77470776 0.77151966\n",
      " 0.74920298 0.78002125 0.77364506 0.76489362]\n"
     ]
    }
   ],
   "source": [
    "cv_scores2 = cross_val_score(treeclf_adult, adult_dat, adult_lab, cv=10)\n",
    "print(cv_scores2)"
   ]
  },
  {
   "cell_type": "code",
   "execution_count": 628,
   "metadata": {},
   "outputs": [
    {
     "name": "stdout",
     "output_type": "stream",
     "text": [
      "Decision Tree Overall Accuracy: 0.77 (+/- 0.02)\n",
      "\n",
      "Accuracy on training data for Decision Tree: 0.942887501660247\n",
      "\n",
      "Accuracy on test data for Decision Tree: 0.7721720658523632\n"
     ]
    }
   ],
   "source": [
    "print(\"Decision Tree Overall Accuracy: %0.2f (+/- %0.2f)\" % (cv_scores2.mean(), cv_scores2.std() * 2))\n",
    "print()\n",
    "print(\"Accuracy on training data for Decision Tree: {}\".format(treeclf_adult.score(adult_train, adult_train_lab)))\n",
    "print()\n",
    "print(\"Accuracy on test data for Decision Tree: {}\".format(treeclf_adult.score(adult_test, adult_test_lab)))"
   ]
  },
  {
   "cell_type": "markdown",
   "metadata": {},
   "source": [
    "#### Linear Discriminant Analysis model:"
   ]
  },
  {
   "cell_type": "code",
   "execution_count": 629,
   "metadata": {},
   "outputs": [
    {
     "name": "stderr",
     "output_type": "stream",
     "text": [
      "C:\\Users\\Victor\\Anaconda3\\lib\\site-packages\\sklearn\\discriminant_analysis.py:388: UserWarning: Variables are collinear.\n",
      "  warnings.warn(\"Variables are collinear.\")\n"
     ]
    }
   ],
   "source": [
    "from sklearn.discriminant_analysis import LinearDiscriminantAnalysis\n",
    "\n",
    "ldclf = LinearDiscriminantAnalysis()\n",
    "ldclf = ldclf.fit(adult_train, adult_train_lab)"
   ]
  },
  {
   "cell_type": "code",
   "execution_count": 630,
   "metadata": {},
   "outputs": [
    {
     "name": "stderr",
     "output_type": "stream",
     "text": [
      "C:\\Users\\Victor\\Anaconda3\\lib\\site-packages\\sklearn\\discriminant_analysis.py:388: UserWarning: Variables are collinear.\n",
      "  warnings.warn(\"Variables are collinear.\")\n",
      "C:\\Users\\Victor\\Anaconda3\\lib\\site-packages\\sklearn\\discriminant_analysis.py:388: UserWarning: Variables are collinear.\n",
      "  warnings.warn(\"Variables are collinear.\")\n",
      "C:\\Users\\Victor\\Anaconda3\\lib\\site-packages\\sklearn\\discriminant_analysis.py:388: UserWarning: Variables are collinear.\n",
      "  warnings.warn(\"Variables are collinear.\")\n",
      "C:\\Users\\Victor\\Anaconda3\\lib\\site-packages\\sklearn\\discriminant_analysis.py:388: UserWarning: Variables are collinear.\n",
      "  warnings.warn(\"Variables are collinear.\")\n",
      "C:\\Users\\Victor\\Anaconda3\\lib\\site-packages\\sklearn\\discriminant_analysis.py:388: UserWarning: Variables are collinear.\n",
      "  warnings.warn(\"Variables are collinear.\")\n",
      "C:\\Users\\Victor\\Anaconda3\\lib\\site-packages\\sklearn\\discriminant_analysis.py:388: UserWarning: Variables are collinear.\n",
      "  warnings.warn(\"Variables are collinear.\")\n",
      "C:\\Users\\Victor\\Anaconda3\\lib\\site-packages\\sklearn\\discriminant_analysis.py:388: UserWarning: Variables are collinear.\n",
      "  warnings.warn(\"Variables are collinear.\")\n"
     ]
    },
    {
     "name": "stdout",
     "output_type": "stream",
     "text": [
      "[0.81210191 0.80997877 0.79193206 0.81721573 0.80977683 0.78958555\n",
      " 0.79914984 0.80871413 0.82040383 0.81702128]\n"
     ]
    },
    {
     "name": "stderr",
     "output_type": "stream",
     "text": [
      "C:\\Users\\Victor\\Anaconda3\\lib\\site-packages\\sklearn\\discriminant_analysis.py:388: UserWarning: Variables are collinear.\n",
      "  warnings.warn(\"Variables are collinear.\")\n",
      "C:\\Users\\Victor\\Anaconda3\\lib\\site-packages\\sklearn\\discriminant_analysis.py:388: UserWarning: Variables are collinear.\n",
      "  warnings.warn(\"Variables are collinear.\")\n",
      "C:\\Users\\Victor\\Anaconda3\\lib\\site-packages\\sklearn\\discriminant_analysis.py:388: UserWarning: Variables are collinear.\n",
      "  warnings.warn(\"Variables are collinear.\")\n"
     ]
    }
   ],
   "source": [
    "cv_scores3 = cross_val_score(ldclf, adult_dat, adult_lab, cv=10)\n",
    "print(cv_scores3)"
   ]
  },
  {
   "cell_type": "code",
   "execution_count": 631,
   "metadata": {},
   "outputs": [
    {
     "name": "stdout",
     "output_type": "stream",
     "text": [
      "LDA Overall Accuracy: 0.81 (+/- 0.02)\n",
      "\n",
      "Accuracy on training data for LDA: 0.8063487846991633\n",
      "\n",
      "Accuracy on test data for LDA: 0.8109399893786511\n"
     ]
    }
   ],
   "source": [
    "print(\"LDA Overall Accuracy: %0.2f (+/- %0.2f)\" % (cv_scores3.mean(), cv_scores3.std() * 2))\n",
    "print()\n",
    "print(\"Accuracy on training data for LDA: {}\".format(ldclf.score(adult_train, adult_train_lab)))\n",
    "print()\n",
    "print(\"Accuracy on test data for LDA: {}\".format(ldclf.score(adult_test, adult_test_lab)))"
   ]
  },
  {
   "cell_type": "markdown",
   "metadata": {},
   "source": [
    "#### Comparison:\n",
    "#### The 3 types of accuracies are approximately compatile for Naive Bayes and LDA. For Decision Tree, the accuracy score for training set is very high, while the overall accuracy and the accuracy for test set is similarly low."
   ]
  },
  {
   "cell_type": "code",
   "execution_count": null,
   "metadata": {},
   "outputs": [],
   "source": []
  }
 ],
 "metadata": {
  "kernelspec": {
   "display_name": "Python 3",
   "language": "python",
   "name": "python3"
  },
  "language_info": {
   "codemirror_mode": {
    "name": "ipython",
    "version": 3
   },
   "file_extension": ".py",
   "mimetype": "text/x-python",
   "name": "python",
   "nbconvert_exporter": "python",
   "pygments_lexer": "ipython3",
   "version": "3.7.4"
  }
 },
 "nbformat": 4,
 "nbformat_minor": 2
}
